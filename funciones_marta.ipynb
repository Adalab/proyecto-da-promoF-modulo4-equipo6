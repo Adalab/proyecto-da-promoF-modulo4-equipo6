{
 "cells": [
  {
   "cell_type": "code",
   "execution_count": 88,
   "metadata": {},
   "outputs": [],
   "source": [
    "import pandas as pd\n",
    "pd.set_option('display.max_columns', None)\n",
    "pd.set_option('display.max_rows', None)"
   ]
  },
  {
   "cell_type": "code",
   "execution_count": 89,
   "metadata": {},
   "outputs": [],
   "source": [
    "df_rh = pd.read_csv(\"data/recursos-humanos_v1.csv\", index_col=0)"
   ]
  },
  {
   "cell_type": "code",
   "execution_count": 90,
   "metadata": {},
   "outputs": [
    {
     "data": {
      "text/html": [
       "<div>\n",
       "<style scoped>\n",
       "    .dataframe tbody tr th:only-of-type {\n",
       "        vertical-align: middle;\n",
       "    }\n",
       "\n",
       "    .dataframe tbody tr th {\n",
       "        vertical-align: top;\n",
       "    }\n",
       "\n",
       "    .dataframe thead th {\n",
       "        text-align: right;\n",
       "    }\n",
       "</style>\n",
       "<table border=\"1\" class=\"dataframe\">\n",
       "  <thead>\n",
       "    <tr style=\"text-align: right;\">\n",
       "      <th></th>\n",
       "      <th>ManagerName</th>\n",
       "      <th>ManagerID</th>\n",
       "    </tr>\n",
       "  </thead>\n",
       "  <tbody>\n",
       "    <tr>\n",
       "      <th>19</th>\n",
       "      <td>Webster Butler</td>\n",
       "      <td>NaN</td>\n",
       "    </tr>\n",
       "    <tr>\n",
       "      <th>30</th>\n",
       "      <td>Webster Butler</td>\n",
       "      <td>NaN</td>\n",
       "    </tr>\n",
       "    <tr>\n",
       "      <th>44</th>\n",
       "      <td>Webster Butler</td>\n",
       "      <td>NaN</td>\n",
       "    </tr>\n",
       "    <tr>\n",
       "      <th>88</th>\n",
       "      <td>Webster Butler</td>\n",
       "      <td>NaN</td>\n",
       "    </tr>\n",
       "    <tr>\n",
       "      <th>135</th>\n",
       "      <td>Webster Butler</td>\n",
       "      <td>NaN</td>\n",
       "    </tr>\n",
       "    <tr>\n",
       "      <th>177</th>\n",
       "      <td>Webster Butler</td>\n",
       "      <td>NaN</td>\n",
       "    </tr>\n",
       "    <tr>\n",
       "      <th>232</th>\n",
       "      <td>Webster Butler</td>\n",
       "      <td>NaN</td>\n",
       "    </tr>\n",
       "    <tr>\n",
       "      <th>251</th>\n",
       "      <td>Webster Butler</td>\n",
       "      <td>NaN</td>\n",
       "    </tr>\n",
       "  </tbody>\n",
       "</table>\n",
       "</div>"
      ],
      "text/plain": [
       "        ManagerName  ManagerID\n",
       "19   Webster Butler        NaN\n",
       "30   Webster Butler        NaN\n",
       "44   Webster Butler        NaN\n",
       "88   Webster Butler        NaN\n",
       "135  Webster Butler        NaN\n",
       "177  Webster Butler        NaN\n",
       "232  Webster Butler        NaN\n",
       "251  Webster Butler        NaN"
      ]
     },
     "execution_count": 90,
     "metadata": {},
     "output_type": "execute_result"
    }
   ],
   "source": [
    "df_rh[[\"ManagerName\", \"ManagerID\"]][df_rh[\"ManagerID\"].isnull()]"
   ]
  },
  {
   "cell_type": "code",
   "execution_count": 102,
   "metadata": {},
   "outputs": [],
   "source": [
    "def arreglando_ManagerId(df):\n",
    "    #Hemos comprobado que los nulos de ManagerID corresponden al empleado Webster Butler con ID 39.0\n",
    "    df[\"ManagerID\"] = df[\"ManagerID\"].fillna(39.0)\n",
    "    #Cambiamos la columna de ManagerID para tener los nombres de los Managers\n",
    "    managers = {1.0:'Brandon R. LeBlanc', \n",
    "                2.0:'Janet King', \n",
    "                3.0:'Brandon R. LeBlanc', \n",
    "                4.0:'Simon Roup', \n",
    "                5.0:'Jennifer Zamora',\n",
    "                6.0:'Eric Dougall',\n",
    "                7.0:'Peter Monroe',\n",
    "                9.0:'Board of Directors',\n",
    "                10.0:'Alex Sweetwater',\n",
    "                11.0:'Amy Dunn',\n",
    "                12.0:'Brannon Miller',\n",
    "                13.0:'Brian Champaigne',\n",
    "                14.0:'David Stanley',\n",
    "                15.0:'Debra Houlihan',\n",
    "                16.0:'Elijiah Gray',\n",
    "                17.0:'John Smith',\n",
    "                18.0:'Kelley Spirea',\n",
    "                19.0:'Ketsia Liebig',\n",
    "                20.0:'Kissy Sullivan',\n",
    "                21.0:'Lynn Daneault',\n",
    "                22.0:'Michael Albert',\n",
    "                30.0:'Michael Albert',\n",
    "                39.0:'Webster Butler'\n",
    "                }\n",
    "    #Sobreescribimos la columna ManagerName para eliminar los valores nulos usando la columna ManagerID\n",
    "    df[\"ManagerName\"] = df[\"ManagerID\"].map(managers)\n",
    "    return df"
   ]
  },
  {
   "cell_type": "code",
   "execution_count": 92,
   "metadata": {},
   "outputs": [],
   "source": [
    "def capitalizar(df,columna):\n",
    "    df[columna] = df[columna].str.capitalize()"
   ]
  },
  {
   "cell_type": "code",
   "execution_count": 93,
   "metadata": {},
   "outputs": [],
   "source": [
    "def nulos_a_unknown(df,columna):\n",
    "    df[columna] = df[columna].fillna(\"Unknown\")"
   ]
  },
  {
   "cell_type": "code",
   "execution_count": 94,
   "metadata": {},
   "outputs": [],
   "source": [
    "def mayusculas_todas_palabras(df,columna):\n",
    "    df[columna] = df[columna].str.title()"
   ]
  },
  {
   "cell_type": "code",
   "execution_count": 103,
   "metadata": {},
   "outputs": [],
   "source": [
    "arreglando_ManagerId(df_rh)\n",
    "capitalizar(df_rh, \"HispanicLatino\")\n",
    "mayusculas_todas_palabras(df_rh, \"Employee_Name\")\n",
    "nulos_a_unknown(df_rh,\"Employee_Name\")"
   ]
  },
  {
   "cell_type": "code",
   "execution_count": 104,
   "metadata": {},
   "outputs": [
    {
     "data": {
      "text/plain": [
       "dtype('O')"
      ]
     },
     "execution_count": 104,
     "metadata": {},
     "output_type": "execute_result"
    }
   ],
   "source": [
    "df_rh[\"ManagerID\"].dtype"
   ]
  },
  {
   "cell_type": "code",
   "execution_count": null,
   "metadata": {},
   "outputs": [],
   "source": []
  }
 ],
 "metadata": {
  "kernelspec": {
   "display_name": "pruebalberto",
   "language": "python",
   "name": "python3"
  },
  "language_info": {
   "codemirror_mode": {
    "name": "ipython",
    "version": 3
   },
   "file_extension": ".py",
   "mimetype": "text/x-python",
   "name": "python",
   "nbconvert_exporter": "python",
   "pygments_lexer": "ipython3",
   "version": "3.11.4"
  }
 },
 "nbformat": 4,
 "nbformat_minor": 2
}
