{
 "cells": [
  {
   "cell_type": "code",
   "execution_count": 1,
   "metadata": {},
   "outputs": [],
   "source": [
    "import pandas as pd\n",
    "pd.set_option('display.max_columns', None)\n",
    "pd.set_option('display.max_rows', None)"
   ]
  },
  {
   "cell_type": "code",
   "execution_count": 2,
   "metadata": {},
   "outputs": [
    {
     "name": "stderr",
     "output_type": "stream",
     "text": [
      "/var/folders/np/2h53vflx42jd3w_yxn33bvv40000gn/T/ipykernel_3130/4167270444.py:1: DtypeWarning: Columns (1,2,5,13,14,15,16,20,21,26,30,32) have mixed types. Specify dtype option on import or set low_memory=False.\n",
      "  df_hotel = pd.read_csv(\"data/finanzas-hotel-bookings.csv\")\n"
     ]
    }
   ],
   "source": [
    "df_hotel = pd.read_csv(\"data/finanzas-hotel-bookings.csv\")\n",
    "df_rh = pd.read_csv(\"data/recursos-humanos.csv\", index_col=0)"
   ]
  },
  {
   "cell_type": "code",
   "execution_count": 3,
   "metadata": {},
   "outputs": [
    {
     "data": {
      "text/plain": [
       "(182877, 33)"
      ]
     },
     "execution_count": 3,
     "metadata": {},
     "output_type": "execute_result"
    }
   ],
   "source": [
    "df_hotel.shape"
   ]
  },
  {
   "cell_type": "code",
   "execution_count": 4,
   "metadata": {},
   "outputs": [
    {
     "data": {
      "text/plain": [
       "(410, 40)"
      ]
     },
     "execution_count": 4,
     "metadata": {},
     "output_type": "execute_result"
    }
   ],
   "source": [
    "df_rh.shape"
   ]
  },
  {
   "cell_type": "code",
   "execution_count": 5,
   "metadata": {},
   "outputs": [
    {
     "data": {
      "text/html": [
       "<div>\n",
       "<style scoped>\n",
       "    .dataframe tbody tr th:only-of-type {\n",
       "        vertical-align: middle;\n",
       "    }\n",
       "\n",
       "    .dataframe tbody tr th {\n",
       "        vertical-align: top;\n",
       "    }\n",
       "\n",
       "    .dataframe thead th {\n",
       "        text-align: right;\n",
       "    }\n",
       "</style>\n",
       "<table border=\"1\" class=\"dataframe\">\n",
       "  <thead>\n",
       "    <tr style=\"text-align: right;\">\n",
       "      <th></th>\n",
       "      <th>Employee_Name</th>\n",
       "      <th>EmpID</th>\n",
       "      <th>MarriedID</th>\n",
       "      <th>MaritalStatusID</th>\n",
       "      <th>GenderID</th>\n",
       "      <th>EmpStatusID</th>\n",
       "      <th>DeptID</th>\n",
       "      <th>PerfScoreID</th>\n",
       "      <th>FromDiversityJobFairID</th>\n",
       "      <th>Salary</th>\n",
       "      <th>Termd</th>\n",
       "      <th>PositionID</th>\n",
       "      <th>Position</th>\n",
       "      <th>State</th>\n",
       "      <th>Zip</th>\n",
       "      <th>DOB</th>\n",
       "      <th>Sex</th>\n",
       "      <th>MaritalDesc</th>\n",
       "      <th>CitizenDesc</th>\n",
       "      <th>HispanicLatino</th>\n",
       "      <th>RaceDesc</th>\n",
       "      <th>DateofHire</th>\n",
       "      <th>DateofTermination</th>\n",
       "      <th>TermReason</th>\n",
       "      <th>EmploymentStatus</th>\n",
       "      <th>Department</th>\n",
       "      <th>ManagerName</th>\n",
       "      <th>ManagerID</th>\n",
       "      <th>RecruitmentSource</th>\n",
       "      <th>PerformanceScore</th>\n",
       "      <th>EngagementSurvey</th>\n",
       "      <th>EmpSatisfaction</th>\n",
       "      <th>SpecialProjectsCount</th>\n",
       "      <th>LastPerformanceReview_Date</th>\n",
       "      <th>DaysLateLast30</th>\n",
       "      <th>Absences</th>\n",
       "      <th>date</th>\n",
       "      <th>Remuneration</th>\n",
       "      <th>Age</th>\n",
       "      <th>Date_of_Birth</th>\n",
       "    </tr>\n",
       "  </thead>\n",
       "  <tbody>\n",
       "    <tr>\n",
       "      <th>0</th>\n",
       "      <td>Adinolfi, Wilson  K</td>\n",
       "      <td>10026.0</td>\n",
       "      <td>0.0</td>\n",
       "      <td>0.0</td>\n",
       "      <td>1.0</td>\n",
       "      <td>1.0</td>\n",
       "      <td>5.0</td>\n",
       "      <td>4.0</td>\n",
       "      <td>NaN</td>\n",
       "      <td>62,506.00</td>\n",
       "      <td>0.0</td>\n",
       "      <td>19.0</td>\n",
       "      <td>Production Technician I</td>\n",
       "      <td>MA</td>\n",
       "      <td>1960.0</td>\n",
       "      <td>07/10/83</td>\n",
       "      <td>F</td>\n",
       "      <td>Single</td>\n",
       "      <td>NaN</td>\n",
       "      <td>No</td>\n",
       "      <td>White</td>\n",
       "      <td>7/5/2011</td>\n",
       "      <td>NaN</td>\n",
       "      <td>Terminated</td>\n",
       "      <td>Active</td>\n",
       "      <td>Production</td>\n",
       "      <td>Michael Albert</td>\n",
       "      <td>22.0</td>\n",
       "      <td>LinkedIn</td>\n",
       "      <td>Exceeds</td>\n",
       "      <td>4.60</td>\n",
       "      <td>5.0</td>\n",
       "      <td>NaN</td>\n",
       "      <td>1/17/2019</td>\n",
       "      <td>0.0</td>\n",
       "      <td>1.0</td>\n",
       "      <td>NaN</td>\n",
       "      <td>62,506.00</td>\n",
       "      <td>NaN</td>\n",
       "      <td>NaN</td>\n",
       "    </tr>\n",
       "    <tr>\n",
       "      <th>1</th>\n",
       "      <td>NaN</td>\n",
       "      <td>10084.0</td>\n",
       "      <td>NaN</td>\n",
       "      <td>1.0</td>\n",
       "      <td>1.0</td>\n",
       "      <td>5.0</td>\n",
       "      <td>3.0</td>\n",
       "      <td>3.0</td>\n",
       "      <td>0.0</td>\n",
       "      <td>104,437.00</td>\n",
       "      <td>1.0</td>\n",
       "      <td>27.0</td>\n",
       "      <td>Sr. DBA</td>\n",
       "      <td>MA</td>\n",
       "      <td>2148.0</td>\n",
       "      <td>05/05/75</td>\n",
       "      <td>M</td>\n",
       "      <td>Married</td>\n",
       "      <td>US Citizen</td>\n",
       "      <td>No</td>\n",
       "      <td>White</td>\n",
       "      <td>NaN</td>\n",
       "      <td>6/16/2016</td>\n",
       "      <td>NaN</td>\n",
       "      <td>Voluntarily Terminated</td>\n",
       "      <td>IT/IS</td>\n",
       "      <td>Simon Roup</td>\n",
       "      <td>4.0</td>\n",
       "      <td>Indeed</td>\n",
       "      <td>Fully Meets</td>\n",
       "      <td>4.96</td>\n",
       "      <td>3.0</td>\n",
       "      <td>6.0</td>\n",
       "      <td>NaN</td>\n",
       "      <td>NaN</td>\n",
       "      <td>17.0</td>\n",
       "      <td>NaN</td>\n",
       "      <td>104,437.00</td>\n",
       "      <td>NaN</td>\n",
       "      <td>NaN</td>\n",
       "    </tr>\n",
       "    <tr>\n",
       "      <th>2</th>\n",
       "      <td>Akinkuolie, Sarah</td>\n",
       "      <td>10196.0</td>\n",
       "      <td>1.0</td>\n",
       "      <td>1.0</td>\n",
       "      <td>0.0</td>\n",
       "      <td>5.0</td>\n",
       "      <td>5.0</td>\n",
       "      <td>3.0</td>\n",
       "      <td>NaN</td>\n",
       "      <td>64,955.00</td>\n",
       "      <td>1.0</td>\n",
       "      <td>20.0</td>\n",
       "      <td>Production Technician II</td>\n",
       "      <td>MA</td>\n",
       "      <td>1810.0</td>\n",
       "      <td>09/19/88</td>\n",
       "      <td>F</td>\n",
       "      <td>Married</td>\n",
       "      <td>NaN</td>\n",
       "      <td>No</td>\n",
       "      <td>NaN</td>\n",
       "      <td>NaN</td>\n",
       "      <td>9/24/2012</td>\n",
       "      <td>hours</td>\n",
       "      <td>Voluntarily Terminated</td>\n",
       "      <td>Production</td>\n",
       "      <td>Kissy Sullivan</td>\n",
       "      <td>20.0</td>\n",
       "      <td>LinkedIn</td>\n",
       "      <td>Fully Meets</td>\n",
       "      <td>3.02</td>\n",
       "      <td>3.0</td>\n",
       "      <td>0.0</td>\n",
       "      <td>5/15/2012</td>\n",
       "      <td>NaN</td>\n",
       "      <td>3.0</td>\n",
       "      <td>NaN</td>\n",
       "      <td>64,955.00</td>\n",
       "      <td>NaN</td>\n",
       "      <td>NaN</td>\n",
       "    </tr>\n",
       "    <tr>\n",
       "      <th>3</th>\n",
       "      <td>Alagbe,Trina</td>\n",
       "      <td>10088.0</td>\n",
       "      <td>1.0</td>\n",
       "      <td>1.0</td>\n",
       "      <td>0.0</td>\n",
       "      <td>1.0</td>\n",
       "      <td>5.0</td>\n",
       "      <td>3.0</td>\n",
       "      <td>0.0</td>\n",
       "      <td>64,991.00</td>\n",
       "      <td>0.0</td>\n",
       "      <td>19.0</td>\n",
       "      <td>Production Technician I</td>\n",
       "      <td>MA</td>\n",
       "      <td>1886.0</td>\n",
       "      <td>09/27/88</td>\n",
       "      <td>F</td>\n",
       "      <td>Married</td>\n",
       "      <td>US Citizen</td>\n",
       "      <td>No</td>\n",
       "      <td>NaN</td>\n",
       "      <td>1/7/2008</td>\n",
       "      <td>NaN</td>\n",
       "      <td>Terminated</td>\n",
       "      <td>Active</td>\n",
       "      <td>Production</td>\n",
       "      <td>Elijiah Gray</td>\n",
       "      <td>16.0</td>\n",
       "      <td>NaN</td>\n",
       "      <td>Fully Meets</td>\n",
       "      <td>4.84</td>\n",
       "      <td>5.0</td>\n",
       "      <td>0.0</td>\n",
       "      <td>1/3/2019</td>\n",
       "      <td>NaN</td>\n",
       "      <td>15.0</td>\n",
       "      <td>NaN</td>\n",
       "      <td>64,991.00</td>\n",
       "      <td>NaN</td>\n",
       "      <td>NaN</td>\n",
       "    </tr>\n",
       "    <tr>\n",
       "      <th>4</th>\n",
       "      <td>Anderson, Carol</td>\n",
       "      <td>10069.0</td>\n",
       "      <td>0.0</td>\n",
       "      <td>2.0</td>\n",
       "      <td>0.0</td>\n",
       "      <td>5.0</td>\n",
       "      <td>5.0</td>\n",
       "      <td>3.0</td>\n",
       "      <td>NaN</td>\n",
       "      <td>50,825.00</td>\n",
       "      <td>1.0</td>\n",
       "      <td>19.0</td>\n",
       "      <td>Production Technician I</td>\n",
       "      <td>MA</td>\n",
       "      <td>2169.0</td>\n",
       "      <td>09/08/89</td>\n",
       "      <td>F</td>\n",
       "      <td>Divorced</td>\n",
       "      <td>US Citizen</td>\n",
       "      <td>No</td>\n",
       "      <td>White</td>\n",
       "      <td>7/11/2011</td>\n",
       "      <td>9/6/2016</td>\n",
       "      <td>return to school</td>\n",
       "      <td>Voluntarily Terminated</td>\n",
       "      <td>Production</td>\n",
       "      <td>Webster Butler</td>\n",
       "      <td>39.0</td>\n",
       "      <td>Google Search</td>\n",
       "      <td>Fully Meets</td>\n",
       "      <td>5.00</td>\n",
       "      <td>4.0</td>\n",
       "      <td>0.0</td>\n",
       "      <td>2/1/2016</td>\n",
       "      <td>0.0</td>\n",
       "      <td>2.0</td>\n",
       "      <td>NaN</td>\n",
       "      <td>50,825.00</td>\n",
       "      <td>NaN</td>\n",
       "      <td>NaN</td>\n",
       "    </tr>\n",
       "  </tbody>\n",
       "</table>\n",
       "</div>"
      ],
      "text/plain": [
       "         Employee_Name    EmpID  MarriedID  MaritalStatusID  GenderID  \\\n",
       "0  Adinolfi, Wilson  K  10026.0        0.0              0.0       1.0   \n",
       "1                  NaN  10084.0        NaN              1.0       1.0   \n",
       "2    Akinkuolie, Sarah  10196.0        1.0              1.0       0.0   \n",
       "3         Alagbe,Trina  10088.0        1.0              1.0       0.0   \n",
       "4     Anderson, Carol   10069.0        0.0              2.0       0.0   \n",
       "\n",
       "   EmpStatusID  DeptID  PerfScoreID  FromDiversityJobFairID      Salary  \\\n",
       "0          1.0     5.0          4.0                     NaN   62,506.00   \n",
       "1          5.0     3.0          3.0                     0.0  104,437.00   \n",
       "2          5.0     5.0          3.0                     NaN   64,955.00   \n",
       "3          1.0     5.0          3.0                     0.0   64,991.00   \n",
       "4          5.0     5.0          3.0                     NaN   50,825.00   \n",
       "\n",
       "   Termd  PositionID                  Position State     Zip       DOB Sex  \\\n",
       "0    0.0        19.0   Production Technician I    MA  1960.0  07/10/83   F   \n",
       "1    1.0        27.0                   Sr. DBA    MA  2148.0  05/05/75  M    \n",
       "2    1.0        20.0  Production Technician II    MA  1810.0  09/19/88   F   \n",
       "3    0.0        19.0   Production Technician I    MA  1886.0  09/27/88   F   \n",
       "4    1.0        19.0   Production Technician I    MA  2169.0  09/08/89   F   \n",
       "\n",
       "  MaritalDesc CitizenDesc HispanicLatino RaceDesc DateofHire  \\\n",
       "0      Single         NaN             No    White   7/5/2011   \n",
       "1     Married  US Citizen             No    White        NaN   \n",
       "2     Married         NaN             No      NaN        NaN   \n",
       "3     Married  US Citizen             No      NaN   1/7/2008   \n",
       "4    Divorced  US Citizen             No    White  7/11/2011   \n",
       "\n",
       "  DateofTermination        TermReason        EmploymentStatus  \\\n",
       "0               NaN        Terminated                  Active   \n",
       "1         6/16/2016               NaN  Voluntarily Terminated   \n",
       "2         9/24/2012             hours  Voluntarily Terminated   \n",
       "3               NaN        Terminated                  Active   \n",
       "4          9/6/2016  return to school  Voluntarily Terminated   \n",
       "\n",
       "          Department     ManagerName  ManagerID RecruitmentSource  \\\n",
       "0  Production         Michael Albert       22.0          LinkedIn   \n",
       "1              IT/IS      Simon Roup        4.0            Indeed   \n",
       "2  Production         Kissy Sullivan       20.0          LinkedIn   \n",
       "3  Production           Elijiah Gray       16.0               NaN   \n",
       "4  Production         Webster Butler       39.0     Google Search   \n",
       "\n",
       "  PerformanceScore  EngagementSurvey  EmpSatisfaction  SpecialProjectsCount  \\\n",
       "0          Exceeds              4.60              5.0                   NaN   \n",
       "1      Fully Meets              4.96              3.0                   6.0   \n",
       "2      Fully Meets              3.02              3.0                   0.0   \n",
       "3      Fully Meets              4.84              5.0                   0.0   \n",
       "4      Fully Meets              5.00              4.0                   0.0   \n",
       "\n",
       "  LastPerformanceReview_Date  DaysLateLast30  Absences date Remuneration  Age  \\\n",
       "0                  1/17/2019             0.0       1.0  NaN    62,506.00  NaN   \n",
       "1                        NaN             NaN      17.0  NaN   104,437.00  NaN   \n",
       "2                  5/15/2012             NaN       3.0  NaN    64,955.00  NaN   \n",
       "3                   1/3/2019             NaN      15.0  NaN    64,991.00  NaN   \n",
       "4                   2/1/2016             0.0       2.0  NaN    50,825.00  NaN   \n",
       "\n",
       "  Date_of_Birth  \n",
       "0           NaN  \n",
       "1           NaN  \n",
       "2           NaN  \n",
       "3           NaN  \n",
       "4           NaN  "
      ]
     },
     "execution_count": 5,
     "metadata": {},
     "output_type": "execute_result"
    }
   ],
   "source": [
    "df_rh.head()"
   ]
  },
  {
   "cell_type": "code",
   "execution_count": 6,
   "metadata": {},
   "outputs": [
    {
     "name": "stdout",
     "output_type": "stream",
     "text": [
      "<class 'pandas.core.frame.DataFrame'>\n",
      "Index: 410 entries, 0 to 409\n",
      "Data columns (total 40 columns):\n",
      " #   Column                      Non-Null Count  Dtype  \n",
      "---  ------                      --------------  -----  \n",
      " 0   Employee_Name               164 non-null    object \n",
      " 1   EmpID                       311 non-null    float64\n",
      " 2   MarriedID                   257 non-null    float64\n",
      " 3   MaritalStatusID             311 non-null    float64\n",
      " 4   GenderID                    311 non-null    float64\n",
      " 5   EmpStatusID                 311 non-null    float64\n",
      " 6   DeptID                      311 non-null    float64\n",
      " 7   PerfScoreID                 282 non-null    float64\n",
      " 8   FromDiversityJobFairID      156 non-null    float64\n",
      " 9   Salary                      311 non-null    object \n",
      " 10  Termd                       311 non-null    float64\n",
      " 11  PositionID                  311 non-null    float64\n",
      " 12  Position                    311 non-null    object \n",
      " 13  State                       311 non-null    object \n",
      " 14  Zip                         311 non-null    float64\n",
      " 15  DOB                         311 non-null    object \n",
      " 16  Sex                         224 non-null    object \n",
      " 17  MaritalDesc                 311 non-null    object \n",
      " 18  CitizenDesc                 263 non-null    object \n",
      " 19  HispanicLatino              311 non-null    object \n",
      " 20  RaceDesc                    227 non-null    object \n",
      " 21  DateofHire                  228 non-null    object \n",
      " 22  DateofTermination           102 non-null    object \n",
      " 23  TermReason                  251 non-null    object \n",
      " 24  EmploymentStatus            311 non-null    object \n",
      " 25  Department                  185 non-null    object \n",
      " 26  ManagerName                 220 non-null    object \n",
      " 27  ManagerID                   303 non-null    float64\n",
      " 28  RecruitmentSource           266 non-null    object \n",
      " 29  PerformanceScore            311 non-null    object \n",
      " 30  EngagementSurvey            311 non-null    float64\n",
      " 31  EmpSatisfaction             311 non-null    float64\n",
      " 32  SpecialProjectsCount        198 non-null    float64\n",
      " 33  LastPerformanceReview_Date  243 non-null    object \n",
      " 34  DaysLateLast30              191 non-null    float64\n",
      " 35  Absences                    311 non-null    float64\n",
      " 36  date                        99 non-null     object \n",
      " 37  Remuneration                311 non-null    object \n",
      " 38  Age                         2 non-null      float64\n",
      " 39  Date_of_Birth               23 non-null     object \n",
      "dtypes: float64(18), object(22)\n",
      "memory usage: 131.3+ KB\n"
     ]
    }
   ],
   "source": [
    "df_rh.info()\n"
   ]
  },
  {
   "cell_type": "code",
   "execution_count": 7,
   "metadata": {},
   "outputs": [
    {
     "data": {
      "text/plain": [
       "89"
      ]
     },
     "execution_count": 7,
     "metadata": {},
     "output_type": "execute_result"
    }
   ],
   "source": [
    "df_rh.duplicated().sum()"
   ]
  },
  {
   "cell_type": "code",
   "execution_count": 8,
   "metadata": {},
   "outputs": [],
   "source": [
    "df_rh.drop_duplicates(inplace=True)"
   ]
  },
  {
   "cell_type": "code",
   "execution_count": 9,
   "metadata": {},
   "outputs": [
    {
     "data": {
      "text/plain": [
       "0"
      ]
     },
     "execution_count": 9,
     "metadata": {},
     "output_type": "execute_result"
    }
   ],
   "source": [
    "df_rh.duplicated().sum()"
   ]
  },
  {
   "cell_type": "code",
   "execution_count": 10,
   "metadata": {},
   "outputs": [
    {
     "name": "stdout",
     "output_type": "stream",
     "text": [
      "<class 'pandas.core.frame.DataFrame'>\n",
      "Index: 321 entries, 0 to 409\n",
      "Data columns (total 40 columns):\n",
      " #   Column                      Non-Null Count  Dtype  \n",
      "---  ------                      --------------  -----  \n",
      " 0   Employee_Name               164 non-null    object \n",
      " 1   EmpID                       311 non-null    float64\n",
      " 2   MarriedID                   257 non-null    float64\n",
      " 3   MaritalStatusID             311 non-null    float64\n",
      " 4   GenderID                    311 non-null    float64\n",
      " 5   EmpStatusID                 311 non-null    float64\n",
      " 6   DeptID                      311 non-null    float64\n",
      " 7   PerfScoreID                 282 non-null    float64\n",
      " 8   FromDiversityJobFairID      156 non-null    float64\n",
      " 9   Salary                      311 non-null    object \n",
      " 10  Termd                       311 non-null    float64\n",
      " 11  PositionID                  311 non-null    float64\n",
      " 12  Position                    311 non-null    object \n",
      " 13  State                       311 non-null    object \n",
      " 14  Zip                         311 non-null    float64\n",
      " 15  DOB                         311 non-null    object \n",
      " 16  Sex                         224 non-null    object \n",
      " 17  MaritalDesc                 311 non-null    object \n",
      " 18  CitizenDesc                 263 non-null    object \n",
      " 19  HispanicLatino              311 non-null    object \n",
      " 20  RaceDesc                    227 non-null    object \n",
      " 21  DateofHire                  228 non-null    object \n",
      " 22  DateofTermination           102 non-null    object \n",
      " 23  TermReason                  251 non-null    object \n",
      " 24  EmploymentStatus            311 non-null    object \n",
      " 25  Department                  185 non-null    object \n",
      " 26  ManagerName                 220 non-null    object \n",
      " 27  ManagerID                   303 non-null    float64\n",
      " 28  RecruitmentSource           266 non-null    object \n",
      " 29  PerformanceScore            311 non-null    object \n",
      " 30  EngagementSurvey            311 non-null    float64\n",
      " 31  EmpSatisfaction             311 non-null    float64\n",
      " 32  SpecialProjectsCount        198 non-null    float64\n",
      " 33  LastPerformanceReview_Date  243 non-null    object \n",
      " 34  DaysLateLast30              191 non-null    float64\n",
      " 35  Absences                    311 non-null    float64\n",
      " 36  date                        10 non-null     object \n",
      " 37  Remuneration                311 non-null    object \n",
      " 38  Age                         2 non-null      float64\n",
      " 39  Date_of_Birth               23 non-null     object \n",
      "dtypes: float64(18), object(22)\n",
      "memory usage: 102.8+ KB\n"
     ]
    }
   ],
   "source": [
    "df_rh.info()"
   ]
  },
  {
   "cell_type": "code",
   "execution_count": 11,
   "metadata": {},
   "outputs": [
    {
     "data": {
      "text/plain": [
       "Age                           99.376947\n",
       "date                          96.884735\n",
       "Date_of_Birth                 92.834891\n",
       "DateofTermination             68.224299\n",
       "FromDiversityJobFairID        51.401869\n",
       "Employee_Name                 48.909657\n",
       "Department                    42.367601\n",
       "DaysLateLast30                40.498442\n",
       "SpecialProjectsCount          38.317757\n",
       "ManagerName                   31.464174\n",
       "Sex                           30.218069\n",
       "RaceDesc                      29.283489\n",
       "DateofHire                    28.971963\n",
       "LastPerformanceReview_Date    24.299065\n",
       "TermReason                    21.806854\n",
       "MarriedID                     19.937695\n",
       "CitizenDesc                   18.068536\n",
       "RecruitmentSource             17.133956\n",
       "PerfScoreID                   12.149533\n",
       "ManagerID                      5.607477\n",
       "PerformanceScore               3.115265\n",
       "Remuneration                   3.115265\n",
       "MaritalStatusID                3.115265\n",
       "Absences                       3.115265\n",
       "EmpStatusID                    3.115265\n",
       "Salary                         3.115265\n",
       "Termd                          3.115265\n",
       "EmpSatisfaction                3.115265\n",
       "EngagementSurvey               3.115265\n",
       "DOB                            3.115265\n",
       "Zip                            3.115265\n",
       "PositionID                     3.115265\n",
       "Position                       3.115265\n",
       "EmploymentStatus               3.115265\n",
       "GenderID                       3.115265\n",
       "State                          3.115265\n",
       "EmpID                          3.115265\n",
       "HispanicLatino                 3.115265\n",
       "MaritalDesc                    3.115265\n",
       "DeptID                         3.115265\n",
       "dtype: float64"
      ]
     },
     "execution_count": 11,
     "metadata": {},
     "output_type": "execute_result"
    }
   ],
   "source": [
    "(df_rh.isnull().sum()/df_rh.shape[0]*100).sort_values(ascending=False)"
   ]
  },
  {
   "cell_type": "code",
   "execution_count": 12,
   "metadata": {},
   "outputs": [
    {
     "name": "stdout",
     "output_type": "stream",
     "text": [
      "Los valores de la columna: Date_of_Birth\n",
      "Twenty-Fourth November, 1987    11\n",
      "Invalid Date                    11\n",
      "No Data                          1\n",
      "Name: count, dtype: int64\n",
      "---------------------------------\n",
      "Los valores de la columna: Age\n",
      "-5.0      1\n",
      " 150.0    1\n",
      "Name: count, dtype: int64\n",
      "---------------------------------\n",
      "Los valores de la columna: date\n",
      "2022-05-01    3\n",
      "2022-04-01    2\n",
      "2022-01-01    2\n",
      "2022-01-02    2\n",
      "2022-01-03    1\n",
      "Name: count, dtype: int64\n",
      "---------------------------------\n"
     ]
    }
   ],
   "source": [
    "columnas_nulos=['Date_of_Birth', 'Age', 'date']\n",
    "\n",
    "for columna in columnas_nulos:\n",
    "    print(f'Los valores de la columna: {df_rh[columna].value_counts()}')\n",
    "    print('---------------------------------')"
   ]
  },
  {
   "cell_type": "code",
   "execution_count": 13,
   "metadata": {},
   "outputs": [],
   "source": [
    "#df_rh.drop(columns=columnas_nulos, inplace=True)"
   ]
  },
  {
   "cell_type": "code",
   "execution_count": 14,
   "metadata": {},
   "outputs": [
    {
     "data": {
      "text/plain": [
       "(321, 31)"
      ]
     },
     "execution_count": 14,
     "metadata": {},
     "output_type": "execute_result"
    }
   ],
   "source": [
    "def eliminar_columnas(df_col_sucio):\n",
    "    columnas_nulos=['Date_of_Birth', 'Age', 'date', 'MarriedID','FromDiversityJobFairID','MaritalStatusID', 'Remuneration','Sex', 'PerfScoreID']\n",
    "    df_col_sucio.drop(columns=columnas_nulos, inplace=True)\n",
    "    return df_col_sucio\n",
    "eliminar_columnas(df_rh)\n",
    "df_rh.shape"
   ]
  },
  {
   "cell_type": "code",
   "execution_count": 15,
   "metadata": {},
   "outputs": [
    {
     "data": {
      "text/plain": [
       "(311, 31)"
      ]
     },
     "execution_count": 15,
     "metadata": {},
     "output_type": "execute_result"
    }
   ],
   "source": [
    "def eliminando_10_filas_nulas(df_sucio):\n",
    "    filas_nulas = df_sucio[(df_sucio[\"EmpID\"].isnull())].index\n",
    "    df_sucio.drop(filas_nulas, axis = 0, inplace=True)\n",
    "    return df_sucio\n",
    "\n",
    "eliminando_10_filas_nulas(df_rh)\n",
    "df_rh.shape"
   ]
  },
  {
   "cell_type": "code",
   "execution_count": 16,
   "metadata": {},
   "outputs": [],
   "source": [
    "df_rh.to_csv(\"data/recursos-humanos_v1.csv\")"
   ]
  },
  {
   "cell_type": "code",
   "execution_count": 17,
   "metadata": {},
   "outputs": [
    {
     "data": {
      "text/plain": [
       "DateofTermination             67.202572\n",
       "Employee_Name                 47.266881\n",
       "Department                    40.514469\n",
       "DaysLateLast30                38.585209\n",
       "SpecialProjectsCount          36.334405\n",
       "ManagerName                   29.260450\n",
       "RaceDesc                      27.009646\n",
       "DateofHire                    26.688103\n",
       "LastPerformanceReview_Date    21.864952\n",
       "TermReason                    19.292605\n",
       "CitizenDesc                   15.434084\n",
       "RecruitmentSource             14.469453\n",
       "ManagerID                      2.572347\n",
       "PositionID                     0.000000\n",
       "DeptID                         0.000000\n",
       "GenderID                       0.000000\n",
       "EmpStatusID                    0.000000\n",
       "EmpSatisfaction                0.000000\n",
       "EngagementSurvey               0.000000\n",
       "PerformanceScore               0.000000\n",
       "EmploymentStatus               0.000000\n",
       "Salary                         0.000000\n",
       "Position                       0.000000\n",
       "Termd                          0.000000\n",
       "EmpID                          0.000000\n",
       "HispanicLatino                 0.000000\n",
       "MaritalDesc                    0.000000\n",
       "DOB                            0.000000\n",
       "Zip                            0.000000\n",
       "State                          0.000000\n",
       "Absences                       0.000000\n",
       "dtype: float64"
      ]
     },
     "execution_count": 17,
     "metadata": {},
     "output_type": "execute_result"
    }
   ],
   "source": [
    "(df_rh.isnull().sum()/df_rh.shape[0]*100).sort_values(ascending=False)"
   ]
  }
 ],
 "metadata": {
  "kernelspec": {
   "display_name": "pruebalberto",
   "language": "python",
   "name": "python3"
  },
  "language_info": {
   "codemirror_mode": {
    "name": "ipython",
    "version": 3
   },
   "file_extension": ".py",
   "mimetype": "text/x-python",
   "name": "python",
   "nbconvert_exporter": "python",
   "pygments_lexer": "ipython3",
   "version": "3.11.4"
  }
 },
 "nbformat": 4,
 "nbformat_minor": 2
}
