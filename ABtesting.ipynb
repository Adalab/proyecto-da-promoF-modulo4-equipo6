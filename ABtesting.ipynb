{
 "cells": [
  {
   "cell_type": "code",
   "execution_count": 1,
   "metadata": {},
   "outputs": [],
   "source": [
    "# importamos las librerías que necesitamos\n",
    "\n",
    "# Tratamiento de datos\n",
    "# -----------------------------------------------------------------------\n",
    "import pandas as pd\n",
    "import numpy as np\n",
    "\n",
    "# Visualización\n",
    "# ------------------------------------------------------------------------------\n",
    "import matplotlib.pyplot as plt\n",
    "import seaborn as sns\n",
    "\n",
    "#Correlaciones\n",
    "# ------------------------------------------------------------------------------\n",
    "from itertools import combinations\n",
    "\n",
    "# Evaluar linealidad de las relaciones entre las variables\n",
    "# y la distribución de las variables\n",
    "# ------------------------------------------------------------------------------\n",
    "import scipy.stats as stats\n",
    "from scipy.stats import shapiro, poisson, chisquare, chi2_contingency, expon, kstest\n",
    "\n",
    "\n",
    "# Configuración\n",
    "# -----------------------------------------------------------------------\n",
    "pd.set_option('display.max_columns', None) # para poder visualizar todas las columnas de los DataFrames\n",
    "\n",
    "# Gestión de los warnings\n",
    "# -----------------------------------------------------------------------\n",
    "import warnings\n",
    "warnings.filterwarnings(\"ignore\")"
   ]
  },
  {
   "cell_type": "code",
   "execution_count": 2,
   "metadata": {},
   "outputs": [],
   "source": [
    "pd.set_option('display.max_columns', None)\n",
    "pd.set_option('display.max_rows', None)"
   ]
  },
  {
   "cell_type": "code",
   "execution_count": 3,
   "metadata": {},
   "outputs": [
    {
     "data": {
      "text/plain": [
       "(311, 29)"
      ]
     },
     "execution_count": 3,
     "metadata": {},
     "output_type": "execute_result"
    }
   ],
   "source": [
    "df = pd.read_csv(\"data/rrhh_elbueno.csv\", index_col=0)\n",
    "df.shape"
   ]
  },
  {
   "cell_type": "code",
   "execution_count": 4,
   "metadata": {},
   "outputs": [
    {
     "data": {
      "text/html": [
       "<div>\n",
       "<style scoped>\n",
       "    .dataframe tbody tr th:only-of-type {\n",
       "        vertical-align: middle;\n",
       "    }\n",
       "\n",
       "    .dataframe tbody tr th {\n",
       "        vertical-align: top;\n",
       "    }\n",
       "\n",
       "    .dataframe thead th {\n",
       "        text-align: right;\n",
       "    }\n",
       "</style>\n",
       "<table border=\"1\" class=\"dataframe\">\n",
       "  <thead>\n",
       "    <tr style=\"text-align: right;\">\n",
       "      <th></th>\n",
       "      <th>employee_name</th>\n",
       "      <th>empid</th>\n",
       "      <th>genderid</th>\n",
       "      <th>empstatusid</th>\n",
       "      <th>department</th>\n",
       "      <th>salary</th>\n",
       "      <th>termd</th>\n",
       "      <th>position</th>\n",
       "      <th>state</th>\n",
       "      <th>zip</th>\n",
       "      <th>date_of_birth</th>\n",
       "      <th>maritaldesc</th>\n",
       "      <th>citizendesc</th>\n",
       "      <th>hispaniclatino</th>\n",
       "      <th>racedesc</th>\n",
       "      <th>dateofhire</th>\n",
       "      <th>dateoftermination</th>\n",
       "      <th>termreason</th>\n",
       "      <th>employmentstatus</th>\n",
       "      <th>managername</th>\n",
       "      <th>managerid</th>\n",
       "      <th>recruitmentsource</th>\n",
       "      <th>performancescore</th>\n",
       "      <th>engagementsurvey</th>\n",
       "      <th>empsatisfaction</th>\n",
       "      <th>specialprojectscount</th>\n",
       "      <th>lastperformancereview_date</th>\n",
       "      <th>dayslatelast30</th>\n",
       "      <th>absences</th>\n",
       "    </tr>\n",
       "  </thead>\n",
       "  <tbody>\n",
       "    <tr>\n",
       "      <th>0</th>\n",
       "      <td>Adinolfi, Wilson  K</td>\n",
       "      <td>10026</td>\n",
       "      <td>Masculine</td>\n",
       "      <td>1</td>\n",
       "      <td>Production</td>\n",
       "      <td>62506.0</td>\n",
       "      <td>No</td>\n",
       "      <td>Production Technician I</td>\n",
       "      <td>MA</td>\n",
       "      <td>1960</td>\n",
       "      <td>1983-07-10</td>\n",
       "      <td>Single</td>\n",
       "      <td>US Citizen</td>\n",
       "      <td>No</td>\n",
       "      <td>White</td>\n",
       "      <td>2011-07-05</td>\n",
       "      <td>NaN</td>\n",
       "      <td>Terminated</td>\n",
       "      <td>Active</td>\n",
       "      <td>Michael Albert</td>\n",
       "      <td>22.0</td>\n",
       "      <td>LinkedIn</td>\n",
       "      <td>Exceeds</td>\n",
       "      <td>4.60</td>\n",
       "      <td>Very Satisfied</td>\n",
       "      <td>0</td>\n",
       "      <td>2019-01-17</td>\n",
       "      <td>0</td>\n",
       "      <td>1</td>\n",
       "    </tr>\n",
       "    <tr>\n",
       "      <th>1</th>\n",
       "      <td>Unknown</td>\n",
       "      <td>10084</td>\n",
       "      <td>Masculine</td>\n",
       "      <td>5</td>\n",
       "      <td>IT/IS</td>\n",
       "      <td>104437.0</td>\n",
       "      <td>Yes</td>\n",
       "      <td>Sr. DBA</td>\n",
       "      <td>MA</td>\n",
       "      <td>2148</td>\n",
       "      <td>1975-05-05</td>\n",
       "      <td>Married</td>\n",
       "      <td>US Citizen</td>\n",
       "      <td>No</td>\n",
       "      <td>White</td>\n",
       "      <td>1900-01-01</td>\n",
       "      <td>2016-06-16</td>\n",
       "      <td>N/A-StillEmployed</td>\n",
       "      <td>Voluntarily Terminated</td>\n",
       "      <td>Simon Roup</td>\n",
       "      <td>4.0</td>\n",
       "      <td>Indeed</td>\n",
       "      <td>Fully Meets</td>\n",
       "      <td>4.96</td>\n",
       "      <td>Neutral</td>\n",
       "      <td>6</td>\n",
       "      <td>1900-01-01</td>\n",
       "      <td>999</td>\n",
       "      <td>17</td>\n",
       "    </tr>\n",
       "    <tr>\n",
       "      <th>2</th>\n",
       "      <td>Akinkuolie, Sarah</td>\n",
       "      <td>10196</td>\n",
       "      <td>Femenine</td>\n",
       "      <td>5</td>\n",
       "      <td>Production</td>\n",
       "      <td>64955.0</td>\n",
       "      <td>Yes</td>\n",
       "      <td>Production Technician II</td>\n",
       "      <td>MA</td>\n",
       "      <td>1810</td>\n",
       "      <td>1988-09-19</td>\n",
       "      <td>Married</td>\n",
       "      <td>US Citizen</td>\n",
       "      <td>No</td>\n",
       "      <td>Unknown</td>\n",
       "      <td>1900-01-01</td>\n",
       "      <td>2012-09-24</td>\n",
       "      <td>hours</td>\n",
       "      <td>Voluntarily Terminated</td>\n",
       "      <td>Kissy Sullivan</td>\n",
       "      <td>20.0</td>\n",
       "      <td>LinkedIn</td>\n",
       "      <td>Fully Meets</td>\n",
       "      <td>3.02</td>\n",
       "      <td>Neutral</td>\n",
       "      <td>0</td>\n",
       "      <td>2012-05-15</td>\n",
       "      <td>999</td>\n",
       "      <td>3</td>\n",
       "    </tr>\n",
       "    <tr>\n",
       "      <th>3</th>\n",
       "      <td>Alagbe,Trina</td>\n",
       "      <td>10088</td>\n",
       "      <td>Femenine</td>\n",
       "      <td>1</td>\n",
       "      <td>Production</td>\n",
       "      <td>64991.0</td>\n",
       "      <td>No</td>\n",
       "      <td>Production Technician I</td>\n",
       "      <td>MA</td>\n",
       "      <td>1886</td>\n",
       "      <td>1988-09-27</td>\n",
       "      <td>Married</td>\n",
       "      <td>US Citizen</td>\n",
       "      <td>No</td>\n",
       "      <td>Unknown</td>\n",
       "      <td>2008-01-07</td>\n",
       "      <td>NaN</td>\n",
       "      <td>Terminated</td>\n",
       "      <td>Active</td>\n",
       "      <td>Elijiah Gray</td>\n",
       "      <td>16.0</td>\n",
       "      <td>Indeed</td>\n",
       "      <td>Fully Meets</td>\n",
       "      <td>4.84</td>\n",
       "      <td>Very Satisfied</td>\n",
       "      <td>0</td>\n",
       "      <td>2019-01-03</td>\n",
       "      <td>999</td>\n",
       "      <td>15</td>\n",
       "    </tr>\n",
       "    <tr>\n",
       "      <th>4</th>\n",
       "      <td>Anderson, Carol</td>\n",
       "      <td>10069</td>\n",
       "      <td>Femenine</td>\n",
       "      <td>5</td>\n",
       "      <td>Production</td>\n",
       "      <td>50825.0</td>\n",
       "      <td>Yes</td>\n",
       "      <td>Production Technician I</td>\n",
       "      <td>MA</td>\n",
       "      <td>2169</td>\n",
       "      <td>1989-09-08</td>\n",
       "      <td>Divorced</td>\n",
       "      <td>US Citizen</td>\n",
       "      <td>No</td>\n",
       "      <td>White</td>\n",
       "      <td>2011-07-11</td>\n",
       "      <td>2016-09-06</td>\n",
       "      <td>return to school</td>\n",
       "      <td>Voluntarily Terminated</td>\n",
       "      <td>Webster Butler</td>\n",
       "      <td>39.0</td>\n",
       "      <td>Google Search</td>\n",
       "      <td>Fully Meets</td>\n",
       "      <td>5.00</td>\n",
       "      <td>Satisfied</td>\n",
       "      <td>0</td>\n",
       "      <td>2016-02-01</td>\n",
       "      <td>0</td>\n",
       "      <td>2</td>\n",
       "    </tr>\n",
       "  </tbody>\n",
       "</table>\n",
       "</div>"
      ],
      "text/plain": [
       "         employee_name  empid   genderid  empstatusid  department    salary  \\\n",
       "0  Adinolfi, Wilson  K  10026  Masculine            1  Production   62506.0   \n",
       "1              Unknown  10084  Masculine            5       IT/IS  104437.0   \n",
       "2    Akinkuolie, Sarah  10196   Femenine            5  Production   64955.0   \n",
       "3         Alagbe,Trina  10088   Femenine            1  Production   64991.0   \n",
       "4     Anderson, Carol   10069   Femenine            5  Production   50825.0   \n",
       "\n",
       "  termd                  position state   zip date_of_birth maritaldesc  \\\n",
       "0    No   Production Technician I    MA  1960    1983-07-10      Single   \n",
       "1   Yes                   Sr. DBA    MA  2148    1975-05-05     Married   \n",
       "2   Yes  Production Technician II    MA  1810    1988-09-19     Married   \n",
       "3    No   Production Technician I    MA  1886    1988-09-27     Married   \n",
       "4   Yes   Production Technician I    MA  2169    1989-09-08    Divorced   \n",
       "\n",
       "  citizendesc hispaniclatino racedesc  dateofhire dateoftermination  \\\n",
       "0  US Citizen             No    White  2011-07-05               NaN   \n",
       "1  US Citizen             No    White  1900-01-01        2016-06-16   \n",
       "2  US Citizen             No  Unknown  1900-01-01        2012-09-24   \n",
       "3  US Citizen             No  Unknown  2008-01-07               NaN   \n",
       "4  US Citizen             No    White  2011-07-11        2016-09-06   \n",
       "\n",
       "          termreason        employmentstatus     managername  managerid  \\\n",
       "0         Terminated                  Active  Michael Albert       22.0   \n",
       "1  N/A-StillEmployed  Voluntarily Terminated      Simon Roup        4.0   \n",
       "2              hours  Voluntarily Terminated  Kissy Sullivan       20.0   \n",
       "3         Terminated                  Active    Elijiah Gray       16.0   \n",
       "4   return to school  Voluntarily Terminated  Webster Butler       39.0   \n",
       "\n",
       "  recruitmentsource performancescore  engagementsurvey empsatisfaction  \\\n",
       "0          LinkedIn          Exceeds              4.60  Very Satisfied   \n",
       "1            Indeed      Fully Meets              4.96         Neutral   \n",
       "2          LinkedIn      Fully Meets              3.02         Neutral   \n",
       "3            Indeed      Fully Meets              4.84  Very Satisfied   \n",
       "4     Google Search      Fully Meets              5.00       Satisfied   \n",
       "\n",
       "   specialprojectscount lastperformancereview_date  dayslatelast30  absences  \n",
       "0                     0                 2019-01-17               0         1  \n",
       "1                     6                 1900-01-01             999        17  \n",
       "2                     0                 2012-05-15             999         3  \n",
       "3                     0                 2019-01-03             999        15  \n",
       "4                     0                 2016-02-01               0         2  "
      ]
     },
     "execution_count": 4,
     "metadata": {},
     "output_type": "execute_result"
    }
   ],
   "source": [
    "df.head()"
   ]
  },
  {
   "cell_type": "code",
   "execution_count": 5,
   "metadata": {},
   "outputs": [
    {
     "name": "stdout",
     "output_type": "stream",
     "text": [
      "Los datos no se ajustan a una distribución normal (p-value = 1.1153312275049991e-23 )\n"
     ]
    }
   ],
   "source": [
    "p_value = shapiro(df['salary']).pvalue\n",
    "\n",
    "alpha = 0.05\n",
    "if p_value > alpha:\n",
    "    print(\"Los datos se ajustan a una distribución normal (p-value =\", p_value, \")\")\n",
    "else:\n",
    "    print(\"Los datos no se ajustan a una distribución normal (p-value =\", p_value, \")\")"
   ]
  },
  {
   "cell_type": "code",
   "execution_count": 6,
   "metadata": {},
   "outputs": [
    {
     "data": {
      "image/png": "[encoded data removed]",
      "text/plain": [
       "<Figure size 640x480 with 1 Axes>"
      ]
     },
     "metadata": {},
     "output_type": "display_data"
    }
   ],
   "source": [
    "# Crear un histograma para visualizar la distribución\n",
    "sns.histplot(x='salary', \n",
    "         hue='department',\n",
    "         data=df,\n",
    "         kde = True)\n",
    "         \n",
    "# ponemos título a la gráfica\n",
    "plt.title('Histograma de Datos')\n",
    "\n",
    "# cambiamos el nombre del eje x\n",
    "plt.xlabel('Salario')\n",
    "\n",
    "# cambiamos el nombre del eje y\n",
    "plt.ylabel('Departamento');"
   ]
  },
  {
   "cell_type": "code",
   "execution_count": 7,
   "metadata": {},
   "outputs": [
    {
     "data": {
      "text/plain": [
       "Index(['empid', 'empstatusid', 'salary', 'zip', 'managerid',\n",
       "       'engagementsurvey', 'specialprojectscount', 'dayslatelast30',\n",
       "       'absences'],\n",
       "      dtype='object')"
      ]
     },
     "execution_count": 7,
     "metadata": {},
     "output_type": "execute_result"
    }
   ],
   "source": [
    "#Vamos a ver relaciones entre las colunnas numéricas:\n",
    "# definimos la lista los nombres de las variables numéricas \n",
    "numericas = df.select_dtypes(include = np.number).columns\n",
    "numericas"
   ]
  },
  {
   "cell_type": "code",
   "execution_count": 8,
   "metadata": {},
   "outputs": [],
   "source": [
    "numericas = ['salary', 'engagementsurvey', 'specialprojectscount', 'dayslatelast30', 'absences']\n",
    "\n",
    "# usando el metodo 'combinations' vamos a generar todas las combinaciones posibles de columnas\n",
    "combinaciones = list(combinations(numericas, 2))\n",
    "# Hemos creado una lista de tuplas con los resultados"
   ]
  },
  {
   "cell_type": "code",
   "execution_count": 9,
   "metadata": {},
   "outputs": [
    {
     "name": "stdout",
     "output_type": "stream",
     "text": [
      "Las variables a las que tengamos que aplicar la correlacion de pearson son: []\n",
      "Las variables a las que tengamos que aplicar la correlacion de spearman son: [('salary', 'engagementsurvey'), ('salary', 'specialprojectscount'), ('salary', 'dayslatelast30'), ('salary', 'absences'), ('engagementsurvey', 'specialprojectscount'), ('engagementsurvey', 'dayslatelast30'), ('engagementsurvey', 'absences'), ('specialprojectscount', 'dayslatelast30'), ('specialprojectscount', 'absences'), ('dayslatelast30', 'absences')]\n"
     ]
    }
   ],
   "source": [
    "# creamos una función para identificar si las relaciones entre las variables son lienales o no\n",
    "def identificar_linealidad (dataframe, lista_combinacion_columnas):\n",
    "    \"\"\"\n",
    "    Identifica si las relaciones entre pares de variables en un DataFrame son lineales o no.\n",
    "\n",
    "    Parameters:\n",
    "    -----------\n",
    "    dataframe : pandas.DataFrame\n",
    "        El DataFrame que contiene las variables a analizar.\n",
    "\n",
    "    lista_combinacion_columnas : list of tuples\n",
    "        Una lista de tuplas donde cada tupla contiene dos nombres de columnas del DataFrame que se desea analizar.\n",
    "\n",
    "    Returns:\n",
    "    --------\n",
    "    relaciones_lineales : list of tuples\n",
    "        Una lista de tuplas que contienen los nombres de las columnas que tienen una relación lineal.\n",
    "\n",
    "    relaciones_no_lineales : list of tuples\n",
    "        Una lista de tuplas que contienen los nombres de las columnas que no tienen una relación lineal.\n",
    "\n",
    "    \"\"\"\n",
    "    relaciones_lineales = []\n",
    "    relaciones_no_lineales = []\n",
    "\n",
    "    for tupla in lista_combinacion_columnas: \n",
    "        # Realizar la prueba de normalidad\n",
    "        _, p_value1 = kstest(dataframe[tupla[0]], \"norm\")\n",
    "        _, p_value2 = kstest(dataframe[tupla[1]], \"norm\")\n",
    "\n",
    "        if p_value1 > 0.05 and p_value2 > 0.05:\n",
    "            relaciones_lineales.append(tupla)\n",
    "        else:\n",
    "            relaciones_no_lineales.append(tupla)\n",
    "\n",
    "    return relaciones_lineales, relaciones_no_lineales\n",
    "\n",
    "# llamamos a la funcion\n",
    "lineal, no_lineal = identificar_linealidad(df, combinaciones)\n",
    "\n",
    "print(f\"Las variables a las que tengamos que aplicar la correlacion de pearson son: {lineal}\")\n",
    "print(f\"Las variables a las que tengamos que aplicar la correlacion de spearman son: {no_lineal}\")"
   ]
  },
  {
   "cell_type": "code",
   "execution_count": 10,
   "metadata": {},
   "outputs": [
    {
     "data": {
      "text/html": [
       "<div>\n",
       "<style scoped>\n",
       "    .dataframe tbody tr th:only-of-type {\n",
       "        vertical-align: middle;\n",
       "    }\n",
       "\n",
       "    .dataframe tbody tr th {\n",
       "        vertical-align: top;\n",
       "    }\n",
       "\n",
       "    .dataframe thead th {\n",
       "        text-align: right;\n",
       "    }\n",
       "</style>\n",
       "<table border=\"1\" class=\"dataframe\">\n",
       "  <thead>\n",
       "    <tr style=\"text-align: right;\">\n",
       "      <th></th>\n",
       "      <th>empid</th>\n",
       "      <th>empstatusid</th>\n",
       "      <th>salary</th>\n",
       "      <th>zip</th>\n",
       "      <th>managerid</th>\n",
       "      <th>engagementsurvey</th>\n",
       "      <th>specialprojectscount</th>\n",
       "      <th>dayslatelast30</th>\n",
       "      <th>absences</th>\n",
       "    </tr>\n",
       "  </thead>\n",
       "  <tbody>\n",
       "    <tr>\n",
       "      <th>empid</th>\n",
       "      <td>1.000000</td>\n",
       "      <td>0.070279</td>\n",
       "      <td>-0.090664</td>\n",
       "      <td>0.000972</td>\n",
       "      <td>0.098095</td>\n",
       "      <td>-0.575832</td>\n",
       "      <td>-0.021315</td>\n",
       "      <td>0.183307</td>\n",
       "      <td>-0.022735</td>\n",
       "    </tr>\n",
       "    <tr>\n",
       "      <th>empstatusid</th>\n",
       "      <td>0.070279</td>\n",
       "      <td>1.000000</td>\n",
       "      <td>-0.104373</td>\n",
       "      <td>-0.029460</td>\n",
       "      <td>0.140178</td>\n",
       "      <td>0.011427</td>\n",
       "      <td>-0.023491</td>\n",
       "      <td>-0.082260</td>\n",
       "      <td>0.084085</td>\n",
       "    </tr>\n",
       "    <tr>\n",
       "      <th>salary</th>\n",
       "      <td>-0.090664</td>\n",
       "      <td>-0.104373</td>\n",
       "      <td>1.000000</td>\n",
       "      <td>0.013084</td>\n",
       "      <td>-0.455582</td>\n",
       "      <td>0.031117</td>\n",
       "      <td>0.371031</td>\n",
       "      <td>0.035618</td>\n",
       "      <td>0.079194</td>\n",
       "    </tr>\n",
       "    <tr>\n",
       "      <th>zip</th>\n",
       "      <td>0.000972</td>\n",
       "      <td>-0.029460</td>\n",
       "      <td>0.013084</td>\n",
       "      <td>1.000000</td>\n",
       "      <td>0.120785</td>\n",
       "      <td>0.026454</td>\n",
       "      <td>-0.003064</td>\n",
       "      <td>0.055081</td>\n",
       "      <td>-0.005466</td>\n",
       "    </tr>\n",
       "    <tr>\n",
       "      <th>managerid</th>\n",
       "      <td>0.098095</td>\n",
       "      <td>0.140178</td>\n",
       "      <td>-0.455582</td>\n",
       "      <td>0.120785</td>\n",
       "      <td>1.000000</td>\n",
       "      <td>-0.019715</td>\n",
       "      <td>-0.406351</td>\n",
       "      <td>0.011339</td>\n",
       "      <td>0.091051</td>\n",
       "    </tr>\n",
       "    <tr>\n",
       "      <th>engagementsurvey</th>\n",
       "      <td>-0.575832</td>\n",
       "      <td>0.011427</td>\n",
       "      <td>0.031117</td>\n",
       "      <td>0.026454</td>\n",
       "      <td>-0.019715</td>\n",
       "      <td>1.000000</td>\n",
       "      <td>-0.005884</td>\n",
       "      <td>-0.161057</td>\n",
       "      <td>-0.006484</td>\n",
       "    </tr>\n",
       "    <tr>\n",
       "      <th>specialprojectscount</th>\n",
       "      <td>-0.021315</td>\n",
       "      <td>-0.023491</td>\n",
       "      <td>0.371031</td>\n",
       "      <td>-0.003064</td>\n",
       "      <td>-0.406351</td>\n",
       "      <td>-0.005884</td>\n",
       "      <td>1.000000</td>\n",
       "      <td>-0.023866</td>\n",
       "      <td>0.006738</td>\n",
       "    </tr>\n",
       "    <tr>\n",
       "      <th>dayslatelast30</th>\n",
       "      <td>0.183307</td>\n",
       "      <td>-0.082260</td>\n",
       "      <td>0.035618</td>\n",
       "      <td>0.055081</td>\n",
       "      <td>0.011339</td>\n",
       "      <td>-0.161057</td>\n",
       "      <td>-0.023866</td>\n",
       "      <td>1.000000</td>\n",
       "      <td>-0.028439</td>\n",
       "    </tr>\n",
       "    <tr>\n",
       "      <th>absences</th>\n",
       "      <td>-0.022735</td>\n",
       "      <td>0.084085</td>\n",
       "      <td>0.079194</td>\n",
       "      <td>-0.005466</td>\n",
       "      <td>0.091051</td>\n",
       "      <td>-0.006484</td>\n",
       "      <td>0.006738</td>\n",
       "      <td>-0.028439</td>\n",
       "      <td>1.000000</td>\n",
       "    </tr>\n",
       "  </tbody>\n",
       "</table>\n",
       "</div>"
      ],
      "text/plain": [
       "                         empid  empstatusid    salary       zip  managerid  \\\n",
       "empid                 1.000000     0.070279 -0.090664  0.000972   0.098095   \n",
       "empstatusid           0.070279     1.000000 -0.104373 -0.029460   0.140178   \n",
       "salary               -0.090664    -0.104373  1.000000  0.013084  -0.455582   \n",
       "zip                   0.000972    -0.029460  0.013084  1.000000   0.120785   \n",
       "managerid             0.098095     0.140178 -0.455582  0.120785   1.000000   \n",
       "engagementsurvey     -0.575832     0.011427  0.031117  0.026454  -0.019715   \n",
       "specialprojectscount -0.021315    -0.023491  0.371031 -0.003064  -0.406351   \n",
       "dayslatelast30        0.183307    -0.082260  0.035618  0.055081   0.011339   \n",
       "absences             -0.022735     0.084085  0.079194 -0.005466   0.091051   \n",
       "\n",
       "                      engagementsurvey  specialprojectscount  dayslatelast30  \\\n",
       "empid                        -0.575832             -0.021315        0.183307   \n",
       "empstatusid                   0.011427             -0.023491       -0.082260   \n",
       "salary                        0.031117              0.371031        0.035618   \n",
       "zip                           0.026454             -0.003064        0.055081   \n",
       "managerid                    -0.019715             -0.406351        0.011339   \n",
       "engagementsurvey              1.000000             -0.005884       -0.161057   \n",
       "specialprojectscount         -0.005884              1.000000       -0.023866   \n",
       "dayslatelast30               -0.161057             -0.023866        1.000000   \n",
       "absences                     -0.006484              0.006738       -0.028439   \n",
       "\n",
       "                      absences  \n",
       "empid                -0.022735  \n",
       "empstatusid           0.084085  \n",
       "salary                0.079194  \n",
       "zip                  -0.005466  \n",
       "managerid             0.091051  \n",
       "engagementsurvey     -0.006484  \n",
       "specialprojectscount  0.006738  \n",
       "dayslatelast30       -0.028439  \n",
       "absences              1.000000  "
      ]
     },
     "execution_count": 10,
     "metadata": {},
     "output_type": "execute_result"
    }
   ],
   "source": [
    "# como todas las parejas de variables tienen relaciones no lineales, aplicaremos la correlación de Spearman a todo el DataFrame\n",
    "df_correlaciones = df.corr(numeric_only = True, method = \"spearman\")\n",
    "df_correlaciones"
   ]
  },
  {
   "cell_type": "code",
   "execution_count": 11,
   "metadata": {},
   "outputs": [
    {
     "data": {
      "image/png": "[encoded data removed]",
      "text/plain": [
       "<Figure size 640x480 with 2 Axes>"
      ]
     },
     "metadata": {},
     "output_type": "display_data"
    }
   ],
   "source": [
    "sns.heatmap(df_correlaciones, # sobre que datos queremos hacer el heatmap\n",
    "            annot = True, # para que nos muestre los valores de cada una de las celdas del heatmap\n",
    "            fmt = \".2f\",  # para que nos redondee a dos decimales\n",
    "            cmap = \"coolwarm\", # para establecer el color de la gráfica\n",
    "            vmax = 1, # para indicar cual es el valor máximo de nuestra escala de colores\n",
    "            vmin = -1); # para identificar el valor mínimo de nuestra escala de colores"
   ]
  },
  {
   "cell_type": "markdown",
   "metadata": {},
   "source": [
    "1. **Correlación Débil**:\n",
    "\n",
    "   - El valor absoluto del coeficiente de correlación está cerca de 0.\n",
    "\n",
    "   - Por lo general, se considera una correlación débil si el valor absoluto está por debajo de 0.3.\n",
    "\n",
    "2. **Correlación Moderada**:\n",
    "\n",
    "   - El valor absoluto del coeficiente de correlación está en el rango de 0.3 a 0.7.\n",
    "\n",
    "   - Se considera una correlación moderada si el valor absoluto está en este rango.\n",
    "\n",
    "3. **Correlación Fuerte**:\n",
    "\n",
    "   - El valor absoluto del coeficiente de correlación es igual o superior a 0.7.\n",
    "\n",
    "   - Se considera una correlación fuerte si el valor absoluto está en este rango."
   ]
  },
  {
   "cell_type": "markdown",
   "metadata": {},
   "source": [
    "## Correlaciones Moderadas: \n",
    "    \n",
    "**NEGATIVAS:**\n",
    "- engagementsurvey y empid --> Es el número de empleado, por lo que no nos interesa esta relación\n",
    "- managerid y salary --> Es el número de manager por lo que no es numerica realmente\n",
    "- managerid y specialprojectscount --> Es el número de manager por lo que no es numerica realmente\n",
    "    \n",
    "**POSITIVAS:**\n",
    "- specialprojectscount y salary"
   ]
  },
  {
   "cell_type": "code",
   "execution_count": 12,
   "metadata": {},
   "outputs": [
    {
     "data": {
      "image/png": "[encoded data removed]",
      "text/plain": [
       "<Figure size 640x480 with 1 Axes>"
      ]
     },
     "metadata": {},
     "output_type": "display_data"
    }
   ],
   "source": [
    "sns.regplot(x = \"specialprojectscount\", \n",
    "                y = \"salary\", \n",
    "                data = df, \n",
    "                color = \"green\")\n",
    "plt.title('Comparación entre managerid y salary')\n",
    "plt.xlabel('managerid')\n",
    "plt.ylabel('salary')\n",
    "plt.show()"
   ]
  },
  {
   "cell_type": "code",
   "execution_count": 13,
   "metadata": {},
   "outputs": [
    {
     "data": {
      "text/html": [
       "<div>\n",
       "<style scoped>\n",
       "    .dataframe tbody tr th:only-of-type {\n",
       "        vertical-align: middle;\n",
       "    }\n",
       "\n",
       "    .dataframe tbody tr th {\n",
       "        vertical-align: top;\n",
       "    }\n",
       "\n",
       "    .dataframe thead th {\n",
       "        text-align: right;\n",
       "    }\n",
       "</style>\n",
       "<table border=\"1\" class=\"dataframe\">\n",
       "  <thead>\n",
       "    <tr style=\"text-align: right;\">\n",
       "      <th></th>\n",
       "      <th>Departamentos</th>\n",
       "      <th>Frecuencia Absoluta</th>\n",
       "      <th>Frecuencia Relativa (%)</th>\n",
       "    </tr>\n",
       "  </thead>\n",
       "  <tbody>\n",
       "    <tr>\n",
       "      <th>0</th>\n",
       "      <td>Production</td>\n",
       "      <td>208</td>\n",
       "      <td>66.881029</td>\n",
       "    </tr>\n",
       "    <tr>\n",
       "      <th>1</th>\n",
       "      <td>IT/IS</td>\n",
       "      <td>50</td>\n",
       "      <td>16.077170</td>\n",
       "    </tr>\n",
       "    <tr>\n",
       "      <th>2</th>\n",
       "      <td>Sales</td>\n",
       "      <td>32</td>\n",
       "      <td>10.289389</td>\n",
       "    </tr>\n",
       "    <tr>\n",
       "      <th>3</th>\n",
       "      <td>Software Engineering</td>\n",
       "      <td>10</td>\n",
       "      <td>3.215434</td>\n",
       "    </tr>\n",
       "    <tr>\n",
       "      <th>4</th>\n",
       "      <td>Admin Offices</td>\n",
       "      <td>10</td>\n",
       "      <td>3.215434</td>\n",
       "    </tr>\n",
       "    <tr>\n",
       "      <th>5</th>\n",
       "      <td>Executive Officer</td>\n",
       "      <td>1</td>\n",
       "      <td>0.321543</td>\n",
       "    </tr>\n",
       "  </tbody>\n",
       "</table>\n",
       "</div>"
      ],
      "text/plain": [
       "          Departamentos  Frecuencia Absoluta  Frecuencia Relativa (%)\n",
       "0            Production                  208                66.881029\n",
       "1                 IT/IS                   50                16.077170\n",
       "2                 Sales                   32                10.289389\n",
       "3  Software Engineering                   10                 3.215434\n",
       "4         Admin Offices                   10                 3.215434\n",
       "5     Executive Officer                    1                 0.321543"
      ]
     },
     "execution_count": 13,
     "metadata": {},
     "output_type": "execute_result"
    }
   ],
   "source": [
    "# queremos analizar la distribución del deppartamento en nuestro conjunto de datos.\n",
    "# calculamos la tabla de frecuencia absoluta\n",
    "frecuencia_absoluta = df['department'].value_counts()\n",
    "\n",
    "# calculamos la tabla de frecuencia relativa incluyendo el parámetro \"normalize\" para que nos lo convierta en tanto por 1. \n",
    "frecuencia_relativa = df['department'].value_counts(normalize=True) * 100\n",
    "\n",
    "# creamos un DataFrame para mostrar ambas tablas\n",
    "tabla_frecuencias = pd.DataFrame({\n",
    "    'Departamentos': frecuencia_absoluta.index,\n",
    "    'Frecuencia Absoluta': frecuencia_absoluta.values,\n",
    "    'Frecuencia Relativa (%)': frecuencia_relativa.values\n",
    "})\n",
    "# vemos la tabla de frecuencias\n",
    "tabla_frecuencias"
   ]
  },
  {
   "cell_type": "code",
   "execution_count": 14,
   "metadata": {},
   "outputs": [
    {
     "data": {
      "text/html": [
       "<div>\n",
       "<style scoped>\n",
       "    .dataframe tbody tr th:only-of-type {\n",
       "        vertical-align: middle;\n",
       "    }\n",
       "\n",
       "    .dataframe tbody tr th {\n",
       "        vertical-align: top;\n",
       "    }\n",
       "\n",
       "    .dataframe thead th {\n",
       "        text-align: right;\n",
       "    }\n",
       "</style>\n",
       "<table border=\"1\" class=\"dataframe\">\n",
       "  <thead>\n",
       "    <tr style=\"text-align: right;\">\n",
       "      <th></th>\n",
       "      <th>Departamentos</th>\n",
       "      <th>Frecuencia Absoluta</th>\n",
       "      <th>Frecuencia Relativa (%)</th>\n",
       "    </tr>\n",
       "  </thead>\n",
       "  <tbody>\n",
       "    <tr>\n",
       "      <th>0</th>\n",
       "      <td>Femenine</td>\n",
       "      <td>176</td>\n",
       "      <td>56.59164</td>\n",
       "    </tr>\n",
       "    <tr>\n",
       "      <th>1</th>\n",
       "      <td>Masculine</td>\n",
       "      <td>135</td>\n",
       "      <td>43.40836</td>\n",
       "    </tr>\n",
       "  </tbody>\n",
       "</table>\n",
       "</div>"
      ],
      "text/plain": [
       "  Departamentos  Frecuencia Absoluta  Frecuencia Relativa (%)\n",
       "0      Femenine                  176                 56.59164\n",
       "1     Masculine                  135                 43.40836"
      ]
     },
     "execution_count": 14,
     "metadata": {},
     "output_type": "execute_result"
    }
   ],
   "source": [
    "# queremos analizar la distribución del deppartamento en nuestro conjunto de datos.\n",
    "# calculamos la tabla de frecuencia absoluta\n",
    "frecuencia_absoluta = df['genderid'].value_counts()\n",
    "\n",
    "# calculamos la tabla de frecuencia relativa incluyendo el parámetro \"normalize\" para que nos lo convierta en tanto por 1. \n",
    "frecuencia_relativa = df['genderid'].value_counts(normalize=True) * 100\n",
    "\n",
    "# creamos un DataFrame para mostrar ambas tablas\n",
    "tabla_frecuencias = pd.DataFrame({\n",
    "    'Departamentos': frecuencia_absoluta.index,\n",
    "    'Frecuencia Absoluta': frecuencia_absoluta.values,\n",
    "    'Frecuencia Relativa (%)': frecuencia_relativa.values\n",
    "})\n",
    "# vemos la tabla de frecuencias\n",
    "tabla_frecuencias"
   ]
  },
  {
   "cell_type": "code",
   "execution_count": 15,
   "metadata": {},
   "outputs": [
    {
     "data": {
      "text/html": [
       "<div>\n",
       "<style scoped>\n",
       "    .dataframe tbody tr th:only-of-type {\n",
       "        vertical-align: middle;\n",
       "    }\n",
       "\n",
       "    .dataframe tbody tr th {\n",
       "        vertical-align: top;\n",
       "    }\n",
       "\n",
       "    .dataframe thead th {\n",
       "        text-align: right;\n",
       "    }\n",
       "</style>\n",
       "<table border=\"1\" class=\"dataframe\">\n",
       "  <thead>\n",
       "    <tr style=\"text-align: right;\">\n",
       "      <th>department</th>\n",
       "      <th>Admin Offices</th>\n",
       "      <th>Executive Officer</th>\n",
       "      <th>IT/IS</th>\n",
       "      <th>Production</th>\n",
       "      <th>Sales</th>\n",
       "      <th>Software Engineering</th>\n",
       "    </tr>\n",
       "    <tr>\n",
       "      <th>genderid</th>\n",
       "      <th></th>\n",
       "      <th></th>\n",
       "      <th></th>\n",
       "      <th></th>\n",
       "      <th></th>\n",
       "      <th></th>\n",
       "    </tr>\n",
       "  </thead>\n",
       "  <tbody>\n",
       "    <tr>\n",
       "      <th>Femenine</th>\n",
       "      <td>1.929260</td>\n",
       "      <td>0.321543</td>\n",
       "      <td>7.073955</td>\n",
       "      <td>40.514469</td>\n",
       "      <td>4.823151</td>\n",
       "      <td>1.929260</td>\n",
       "    </tr>\n",
       "    <tr>\n",
       "      <th>Masculine</th>\n",
       "      <td>1.286174</td>\n",
       "      <td>0.000000</td>\n",
       "      <td>9.003215</td>\n",
       "      <td>26.366559</td>\n",
       "      <td>5.466238</td>\n",
       "      <td>1.286174</td>\n",
       "    </tr>\n",
       "  </tbody>\n",
       "</table>\n",
       "</div>"
      ],
      "text/plain": [
       "department  Admin Offices  Executive Officer     IT/IS  Production     Sales  \\\n",
       "genderid                                                                       \n",
       "Femenine         1.929260           0.321543  7.073955   40.514469  4.823151   \n",
       "Masculine        1.286174           0.000000  9.003215   26.366559  5.466238   \n",
       "\n",
       "department  Software Engineering  \n",
       "genderid                          \n",
       "Femenine                1.929260  \n",
       "Masculine               1.286174  "
      ]
     },
     "execution_count": 15,
     "metadata": {},
     "output_type": "execute_result"
    }
   ],
   "source": [
    "# queremos analizar cómo se distribuye el departamento  en función del sexo.\n",
    "# creamos  la tabla de contingencia usando el método crosstab de pandas\n",
    "tabla_contingencia = pd.crosstab(df['genderid'], df['department'], normalize=True) * 100\n",
    "\n",
    "# Interpretación: La tabla de contingencia muestra cuántos empleados pertenecen a cada combinación de ambas variables (nos muestra el %).\n",
    "tabla_contingencia"
   ]
  },
  {
   "cell_type": "code",
   "execution_count": 16,
   "metadata": {},
   "outputs": [
    {
     "data": {
      "text/html": [
       "<div>\n",
       "<style scoped>\n",
       "    .dataframe tbody tr th:only-of-type {\n",
       "        vertical-align: middle;\n",
       "    }\n",
       "\n",
       "    .dataframe tbody tr th {\n",
       "        vertical-align: top;\n",
       "    }\n",
       "\n",
       "    .dataframe thead th {\n",
       "        text-align: right;\n",
       "    }\n",
       "</style>\n",
       "<table border=\"1\" class=\"dataframe\">\n",
       "  <thead>\n",
       "    <tr style=\"text-align: right;\">\n",
       "      <th>department</th>\n",
       "      <th>Admin Offices</th>\n",
       "      <th>Executive Officer</th>\n",
       "      <th>IT/IS</th>\n",
       "      <th>Production</th>\n",
       "      <th>Sales</th>\n",
       "      <th>Software Engineering</th>\n",
       "    </tr>\n",
       "    <tr>\n",
       "      <th>termd</th>\n",
       "      <th></th>\n",
       "      <th></th>\n",
       "      <th></th>\n",
       "      <th></th>\n",
       "      <th></th>\n",
       "      <th></th>\n",
       "    </tr>\n",
       "  </thead>\n",
       "  <tbody>\n",
       "    <tr>\n",
       "      <th>No</th>\n",
       "      <td>2.250804</td>\n",
       "      <td>0.321543</td>\n",
       "      <td>12.861736</td>\n",
       "      <td>40.192926</td>\n",
       "      <td>8.681672</td>\n",
       "      <td>2.250804</td>\n",
       "    </tr>\n",
       "    <tr>\n",
       "      <th>Yes</th>\n",
       "      <td>0.964630</td>\n",
       "      <td>0.000000</td>\n",
       "      <td>3.215434</td>\n",
       "      <td>26.688103</td>\n",
       "      <td>1.607717</td>\n",
       "      <td>0.964630</td>\n",
       "    </tr>\n",
       "  </tbody>\n",
       "</table>\n",
       "</div>"
      ],
      "text/plain": [
       "department  Admin Offices  Executive Officer      IT/IS  Production     Sales  \\\n",
       "termd                                                                           \n",
       "No               2.250804           0.321543  12.861736   40.192926  8.681672   \n",
       "Yes              0.964630           0.000000   3.215434   26.688103  1.607717   \n",
       "\n",
       "department  Software Engineering  \n",
       "termd                             \n",
       "No                      2.250804  \n",
       "Yes                     0.964630  "
      ]
     },
     "execution_count": 16,
     "metadata": {},
     "output_type": "execute_result"
    }
   ],
   "source": [
    "# queremos analizar cómo se distribuye el departamento  en función del sexo.\n",
    "# creamos  la tabla de contingencia usando el método crosstab de pandas\n",
    "tabla_contingencia = pd.crosstab(df['termd'], df['department'], normalize=True) * 100\n",
    "\n",
    "# Interpretación: La tabla de contingencia muestra cuántos empleados pertenecen a cada combinación de ambas variables (nos muestra el %).\n",
    "tabla_contingencia"
   ]
  },
  {
   "cell_type": "code",
   "execution_count": 91,
   "metadata": {},
   "outputs": [],
   "source": [
    "# vamos a definir una función para poder hacer el t-test de Student\n",
    "\n",
    "def prueba_hipotesis(*args):\n",
    "    \n",
    "    # lo primero que tenemos que hacer es mirar si las varianzas son iguales o no\n",
    "    if len(args) == 2:\n",
    "        p_valor_varianza = stats.levene(*args, center = \"median\")[1]\n",
    "    else:\n",
    "        p_valor_varianza = stats.bartlett(*args)[1]\n",
    "    \n",
    "    if p_valor_varianza > 0.05:\n",
    "        # realizamos la prueba t de Student\n",
    "        t_stat, p_valor = stats.ttest_ind(*args, equal_var=True)\n",
    "    else:\n",
    "        t_stat, p_valor = stats.ttest_ind(*args, equal_var=False)\n",
    "        \n",
    "    # Establecemos un nivel de significancia (alfa)\n",
    "    alfa = 0.05\n",
    "\n",
    "    # comparamos el p-valor con el nivel de significancia\n",
    "    if p_valor < alfa:\n",
    "        print(f\"Con un p_valor de: {p_valor}\")\n",
    "        print(\"¡¡¡Rechazamos la hipótesis nula!!!\")\n",
    "        print(\"*** Hay una diferencia significativa entre los dos grupos. ***\")\n",
    "    else:\n",
    "        print(\"No podemos rechazar la hipótesis nula.\")\n",
    "        print(\"No hay evidencia suficiente para afirmar una diferencia significativa entre los dos grupos.\")"
   ]
  },
  {
   "cell_type": "markdown",
   "metadata": {},
   "source": [
    "H0: No hay diferencia en el promedio de personas que dejan la empresa por salario\n",
    "\n",
    "H1: Sí la hay"
   ]
  },
  {
   "cell_type": "code",
   "execution_count": 67,
   "metadata": {},
   "outputs": [
    {
     "name": "stdout",
     "output_type": "stream",
     "text": [
      "No podemos rechazar la hipótesis nula.\n",
      "No hay evidencia suficiente para afirmar una diferencia significativa entre los dos grupos.\n"
     ]
    }
   ],
   "source": [
    "# filtramos los datos para obtener dos grupos: salida de la empresa y sigue en ella\n",
    "empleado = df[df['termd'] == 'No'][\"salary\"]\n",
    "ex_empleado = df[df['termd'] == 'Yes'][\"salary\"]\n",
    "\n",
    "# llamamos a la función que hemos creado\n",
    "prueba_hipotesis(empleado, ex_empleado)\n"
   ]
  },
  {
   "cell_type": "code",
   "execution_count": 19,
   "metadata": {},
   "outputs": [
    {
     "data": {
      "image/png": "[encoded data removed]",
      "text/plain": [
       "<Figure size 640x480 with 1 Axes>"
      ]
     },
     "metadata": {},
     "output_type": "display_data"
    }
   ],
   "source": [
    "sns.barplot(x = \"termd\", \n",
    "                y = \"salary\", \n",
    "                data = df, \n",
    "                color = \"red\")\n",
    "plt.title('Comparación entre termd y salary')\n",
    "plt.xlabel('termd')\n",
    "plt.ylabel('salary')\n",
    "plt.show()"
   ]
  },
  {
   "cell_type": "markdown",
   "metadata": {},
   "source": [
    "## No parece haber relación entre las personas que dejan o no la empresa y el salario"
   ]
  },
  {
   "cell_type": "code",
   "execution_count": 20,
   "metadata": {},
   "outputs": [
    {
     "data": {
      "text/html": [
       "<div>\n",
       "<style scoped>\n",
       "    .dataframe tbody tr th:only-of-type {\n",
       "        vertical-align: middle;\n",
       "    }\n",
       "\n",
       "    .dataframe tbody tr th {\n",
       "        vertical-align: top;\n",
       "    }\n",
       "\n",
       "    .dataframe thead th {\n",
       "        text-align: right;\n",
       "    }\n",
       "</style>\n",
       "<table border=\"1\" class=\"dataframe\">\n",
       "  <thead>\n",
       "    <tr style=\"text-align: right;\">\n",
       "      <th>department</th>\n",
       "      <th>Admin Offices</th>\n",
       "      <th>Executive Officer</th>\n",
       "      <th>IT/IS</th>\n",
       "      <th>Production</th>\n",
       "      <th>Sales</th>\n",
       "      <th>Software Engineering</th>\n",
       "      <th>All</th>\n",
       "    </tr>\n",
       "    <tr>\n",
       "      <th>termd</th>\n",
       "      <th></th>\n",
       "      <th></th>\n",
       "      <th></th>\n",
       "      <th></th>\n",
       "      <th></th>\n",
       "      <th></th>\n",
       "      <th></th>\n",
       "    </tr>\n",
       "  </thead>\n",
       "  <tbody>\n",
       "    <tr>\n",
       "      <th>No</th>\n",
       "      <td>7</td>\n",
       "      <td>1</td>\n",
       "      <td>40</td>\n",
       "      <td>125</td>\n",
       "      <td>27</td>\n",
       "      <td>7</td>\n",
       "      <td>207</td>\n",
       "    </tr>\n",
       "    <tr>\n",
       "      <th>Yes</th>\n",
       "      <td>3</td>\n",
       "      <td>0</td>\n",
       "      <td>10</td>\n",
       "      <td>83</td>\n",
       "      <td>5</td>\n",
       "      <td>3</td>\n",
       "      <td>104</td>\n",
       "    </tr>\n",
       "    <tr>\n",
       "      <th>All</th>\n",
       "      <td>10</td>\n",
       "      <td>1</td>\n",
       "      <td>50</td>\n",
       "      <td>208</td>\n",
       "      <td>32</td>\n",
       "      <td>10</td>\n",
       "      <td>311</td>\n",
       "    </tr>\n",
       "  </tbody>\n",
       "</table>\n",
       "</div>"
      ],
      "text/plain": [
       "department  Admin Offices  Executive Officer  IT/IS  Production  Sales  \\\n",
       "termd                                                                    \n",
       "No                      7                  1     40         125     27   \n",
       "Yes                     3                  0     10          83      5   \n",
       "All                    10                  1     50         208     32   \n",
       "\n",
       "department  Software Engineering  All  \n",
       "termd                                  \n",
       "No                             7  207  \n",
       "Yes                            3  104  \n",
       "All                           10  311  "
      ]
     },
     "execution_count": 20,
     "metadata": {},
     "output_type": "execute_result"
    }
   ],
   "source": [
    "# Tabla de contingencia termd / department\n",
    "pd.crosstab(index=df['termd'],\n",
    "            columns=df['department'], margins=True)\n"
   ]
  },
  {
   "cell_type": "code",
   "execution_count": 21,
   "metadata": {},
   "outputs": [
    {
     "data": {
      "text/html": [
       "<div>\n",
       "<style scoped>\n",
       "    .dataframe tbody tr th:only-of-type {\n",
       "        vertical-align: middle;\n",
       "    }\n",
       "\n",
       "    .dataframe tbody tr th {\n",
       "        vertical-align: top;\n",
       "    }\n",
       "\n",
       "    .dataframe thead th {\n",
       "        text-align: right;\n",
       "    }\n",
       "</style>\n",
       "<table border=\"1\" class=\"dataframe\">\n",
       "  <thead>\n",
       "    <tr style=\"text-align: right;\">\n",
       "      <th>department</th>\n",
       "      <th>Admin Offices</th>\n",
       "      <th>Executive Officer</th>\n",
       "      <th>IT/IS</th>\n",
       "      <th>Production</th>\n",
       "      <th>Sales</th>\n",
       "      <th>Software Engineering</th>\n",
       "      <th>All</th>\n",
       "    </tr>\n",
       "    <tr>\n",
       "      <th>termd</th>\n",
       "      <th></th>\n",
       "      <th></th>\n",
       "      <th></th>\n",
       "      <th></th>\n",
       "      <th></th>\n",
       "      <th></th>\n",
       "      <th></th>\n",
       "    </tr>\n",
       "  </thead>\n",
       "  <tbody>\n",
       "    <tr>\n",
       "      <th>No</th>\n",
       "      <td>2.250804</td>\n",
       "      <td>0.321543</td>\n",
       "      <td>12.861736</td>\n",
       "      <td>40.192926</td>\n",
       "      <td>8.681672</td>\n",
       "      <td>2.250804</td>\n",
       "      <td>66.559486</td>\n",
       "    </tr>\n",
       "    <tr>\n",
       "      <th>Yes</th>\n",
       "      <td>0.964630</td>\n",
       "      <td>0.000000</td>\n",
       "      <td>3.215434</td>\n",
       "      <td>26.688103</td>\n",
       "      <td>1.607717</td>\n",
       "      <td>0.964630</td>\n",
       "      <td>33.440514</td>\n",
       "    </tr>\n",
       "    <tr>\n",
       "      <th>All</th>\n",
       "      <td>3.215434</td>\n",
       "      <td>0.321543</td>\n",
       "      <td>16.077170</td>\n",
       "      <td>66.881029</td>\n",
       "      <td>10.289389</td>\n",
       "      <td>3.215434</td>\n",
       "      <td>100.000000</td>\n",
       "    </tr>\n",
       "  </tbody>\n",
       "</table>\n",
       "</div>"
      ],
      "text/plain": [
       "department  Admin Offices  Executive Officer      IT/IS  Production  \\\n",
       "termd                                                                 \n",
       "No               2.250804           0.321543  12.861736   40.192926   \n",
       "Yes              0.964630           0.000000   3.215434   26.688103   \n",
       "All              3.215434           0.321543  16.077170   66.881029   \n",
       "\n",
       "department      Sales  Software Engineering         All  \n",
       "termd                                                    \n",
       "No           8.681672              2.250804   66.559486  \n",
       "Yes          1.607717              0.964630   33.440514  \n",
       "All         10.289389              3.215434  100.000000  "
      ]
     },
     "execution_count": 21,
     "metadata": {},
     "output_type": "execute_result"
    }
   ],
   "source": [
    "# Tabla de contingencia % termd / department\n",
    "pd.crosstab(index=df['termd'],\n",
    "            columns=df['department'], margins=True).apply(lambda r: r/len(df) *100,\n",
    "                                axis=1)"
   ]
  },
  {
   "cell_type": "code",
   "execution_count": 23,
   "metadata": {},
   "outputs": [],
   "source": [
    "#!pip install dython"
   ]
  },
  {
   "cell_type": "code",
   "execution_count": 27,
   "metadata": {},
   "outputs": [],
   "source": [
    "import math\n",
    "import numpy as np\n",
    "from dython.nominal import associations, theils_u\n",
    "import scipy.stats as ss\n",
    "_REPLACE='replace'\n",
    "_DEFAULT_REPLACE_VALUE = 0.0"
   ]
  },
  {
   "cell_type": "markdown",
   "metadata": {},
   "source": [
    "H0: Indica que no hay asociación entre las variables categóricas (independencia).\n",
    "\n",
    "H1: Indica una asociación perfecta y completa entre las variables categóricas.\n",
    "\n",
    "Si Theil's U es bajo, significa que las categorías en 'termd' no proporcionan mucha información sobre las categorías en 'department' y viceversa."
   ]
  },
  {
   "cell_type": "code",
   "execution_count": 28,
   "metadata": {},
   "outputs": [
    {
     "data": {
      "text/plain": [
       "0.03620357814340961"
      ]
     },
     "execution_count": 28,
     "metadata": {},
     "output_type": "execute_result"
    }
   ],
   "source": [
    "theils_u(df['termd'], df['department'])"
   ]
  },
  {
   "cell_type": "markdown",
   "metadata": {},
   "source": [
    "La asociación entre las variables es baja y las variables parecen estar relativamente independientes."
   ]
  },
  {
   "cell_type": "code",
   "execution_count": 29,
   "metadata": {},
   "outputs": [
    {
     "data": {
      "text/plain": [
       "0.00019460815966479392"
      ]
     },
     "execution_count": 29,
     "metadata": {},
     "output_type": "execute_result"
    }
   ],
   "source": [
    "theils_u(df['termd'], df['genderid'])"
   ]
  },
  {
   "cell_type": "code",
   "execution_count": 30,
   "metadata": {},
   "outputs": [
    {
     "data": {
      "text/plain": [
       "0.9930050896728547"
      ]
     },
     "execution_count": 30,
     "metadata": {},
     "output_type": "execute_result"
    }
   ],
   "source": [
    "theils_u(df['termd'], df['salary'])"
   ]
  },
  {
   "cell_type": "markdown",
   "metadata": {},
   "source": [
    "Tasa de proporcion de gente que deja la empresa"
   ]
  },
  {
   "cell_type": "code",
   "execution_count": 69,
   "metadata": {},
   "outputs": [
    {
     "data": {
      "text/plain": [
       "0.33440514469453375"
      ]
     },
     "execution_count": 69,
     "metadata": {},
     "output_type": "execute_result"
    }
   ],
   "source": [
    "# Calcular la proporción de personas que dejan la empresa ('termd' = 'Yes')\n",
    "df['termd'].value_counts()['Yes'] / len(df['termd'])"
   ]
  },
  {
   "cell_type": "code",
   "execution_count": 70,
   "metadata": {},
   "outputs": [
    {
     "name": "stdout",
     "output_type": "stream",
     "text": [
      "             department  departure_count\n",
      "0         Admin Offices                3\n",
      "1                 IT/IS               10\n",
      "2            Production               83\n",
      "3                 Sales                5\n",
      "4  Software Engineering                3\n"
     ]
    }
   ],
   "source": [
    "# Crear un DataFrame con la cantidad de personas que se van por 'department'\n",
    "departure_by_department = df[df['termd'] == 'Yes'].groupby('department').size().reset_index(name='departure_count')\n",
    "\n",
    "print(departure_by_department)"
   ]
  },
  {
   "cell_type": "code",
   "execution_count": 71,
   "metadata": {},
   "outputs": [
    {
     "name": "stdout",
     "output_type": "stream",
     "text": [
      "             department  staying_count\n",
      "0         Admin Offices              7\n",
      "1     Executive Officer              1\n",
      "2                 IT/IS             40\n",
      "3            Production            125\n",
      "4                 Sales             27\n",
      "5  Software Engineering              7\n"
     ]
    }
   ],
   "source": [
    "staying_by_department = df[df['termd'] == 'No'].groupby('department').size().reset_index(name='staying_count')\n",
    "\n",
    "print(staying_by_department)"
   ]
  },
  {
   "cell_type": "code",
   "execution_count": 72,
   "metadata": {},
   "outputs": [
    {
     "data": {
      "text/plain": [
       "(0.0, 125.0)"
      ]
     },
     "execution_count": 72,
     "metadata": {},
     "output_type": "execute_result"
    },
    {
     "data": {
      "image/png": "[encoded data removed]",
      "text/plain": [
       "<Figure size 2000x500 with 2 Axes>"
      ]
     },
     "metadata": {},
     "output_type": "display_data"
    }
   ],
   "source": [
    "# Crear subgráficos\n",
    "fig, axes = plt.subplots(nrows=1, ncols=2, figsize=(20, 5))\n",
    "# Gráfico 1: Salidas de la empresa\n",
    "sns.barplot(x=\"department\", y=\"departure_count\", data=departure_by_department, ax=axes[0])\n",
    "axes[0].set_title(\"Salidas\")\n",
    "\n",
    "# Gráfico 2: Permanencia\n",
    "sns.barplot(x=\"department\", y=\"staying_count\", data=staying_by_department, ax=axes[1])\n",
    "axes[1].set_title(\"Permanencia\")\n",
    "axes[0].set_ylim(0, max(staying_by_department['staying_count']))  # Establecer el rango del eje y"
   ]
  },
  {
   "cell_type": "markdown",
   "metadata": {},
   "source": [
    "## Por departamentos (1 a 1) con salario"
   ]
  },
  {
   "cell_type": "code",
   "execution_count": 73,
   "metadata": {},
   "outputs": [
    {
     "name": "stdout",
     "output_type": "stream",
     "text": [
      "Para el departamento PRODUCTION vemos que:\n",
      "No podemos rechazar la hipótesis nula.\n",
      "No hay evidencia suficiente para afirmar una diferencia significativa entre los dos grupos.\n",
      "------------------------------------------------------\n",
      "Para el departamento IT/IS vemos que:\n",
      "No podemos rechazar la hipótesis nula.\n",
      "No hay evidencia suficiente para afirmar una diferencia significativa entre los dos grupos.\n",
      "------------------------------------------------------\n",
      "Para el departamento SOFTWARE ENGINEERING vemos que:\n",
      "No podemos rechazar la hipótesis nula.\n",
      "No hay evidencia suficiente para afirmar una diferencia significativa entre los dos grupos.\n",
      "------------------------------------------------------\n",
      "Para el departamento ADMIN OFFICES vemos que:\n",
      "No podemos rechazar la hipótesis nula.\n",
      "No hay evidencia suficiente para afirmar una diferencia significativa entre los dos grupos.\n",
      "------------------------------------------------------\n",
      "Para el departamento SALES vemos que:\n",
      "No podemos rechazar la hipótesis nula.\n",
      "No hay evidencia suficiente para afirmar una diferencia significativa entre los dos grupos.\n",
      "------------------------------------------------------\n",
      "Para el departamento EXECUTIVE OFFICER vemos que:\n",
      "No podemos rechazar la hipótesis nula.\n",
      "No hay evidencia suficiente para afirmar una diferencia significativa entre los dos grupos.\n",
      "------------------------------------------------------\n"
     ]
    }
   ],
   "source": [
    "departamentos = df[\"department\"].unique()\n",
    "\n",
    "#Filtramos por departamentos, agrupamos en ex_empleado/empleado y comparamos con salario\n",
    "for dep in departamentos:\n",
    "    empleado = df[(df['termd'] == 'No') & (df['department'] == dep)][\"salary\"]\n",
    "    ex_empleado = df[(df['termd'] == 'Yes') & (df['department'] == dep)][\"salary\"]\n",
    "\n",
    "    # llamamos a la función que hemos creado\n",
    "    print(f\"Para el departamento {dep.upper()} vemos que:\")\n",
    "    prueba_hipotesis(empleado, ex_empleado)\n",
    "    print(\"------------------------------------------------------\")"
   ]
  },
  {
   "cell_type": "code",
   "execution_count": 75,
   "metadata": {},
   "outputs": [
    {
     "name": "stdout",
     "output_type": "stream",
     "text": [
      "Para el departamento VERY SATISFIED vemos que:\n",
      "No podemos rechazar la hipótesis nula.\n",
      "No hay evidencia suficiente para afirmar una diferencia significativa entre los dos grupos.\n",
      "------------------------------------------------------\n",
      "Para el departamento NEUTRAL vemos que:\n",
      "No podemos rechazar la hipótesis nula.\n",
      "No hay evidencia suficiente para afirmar una diferencia significativa entre los dos grupos.\n",
      "------------------------------------------------------\n",
      "Para el departamento SATISFIED vemos que:\n",
      "No podemos rechazar la hipótesis nula.\n",
      "No hay evidencia suficiente para afirmar una diferencia significativa entre los dos grupos.\n",
      "------------------------------------------------------\n",
      "Para el departamento DISSATISFIED vemos que:\n",
      "No podemos rechazar la hipótesis nula.\n",
      "No hay evidencia suficiente para afirmar una diferencia significativa entre los dos grupos.\n",
      "------------------------------------------------------\n",
      "Para el departamento VERY DISSATISFIED vemos que:\n",
      "No podemos rechazar la hipótesis nula.\n",
      "No hay evidencia suficiente para afirmar una diferencia significativa entre los dos grupos.\n",
      "------------------------------------------------------\n"
     ]
    }
   ],
   "source": [
    "satisfaccion = df[\"empsatisfaction\"].unique()\n",
    "\n",
    "#Filtramos por satisfaccion, departamento de admin offices, agrupamos en ex_empleado/empleado y comparamos con la implicacion \n",
    "for sat in satisfaccion:\n",
    "    empleado_adminoffices = df[(df['termd'] == 'No') & (df['department'] == 'Admin Offices') & (df['empsatisfaction'] == sat)][\"engagementsurvey\"]\n",
    "    ex_empleado_adminoffices = df[(df['termd'] == 'Yes') & (df['department'] == 'Admin Offices') & (df['empsatisfaction'] == sat)][\"engagementsurvey\"]\n",
    "\n",
    "    # llamamos a la función que hemos creado\n",
    "    print(f\"Para el departamento {sat.upper()} vemos que:\")\n",
    "    prueba_hipotesis(empleado_adminoffices, ex_empleado_adminoffices)\n",
    "    print(\"------------------------------------------------------\")"
   ]
  },
  {
   "cell_type": "code",
   "execution_count": 92,
   "metadata": {},
   "outputs": [
    {
     "name": "stdout",
     "output_type": "stream",
     "text": [
      "Para el departamento PRODUCTION vemos que:\n",
      "No podemos rechazar la hipótesis nula.\n",
      "No hay evidencia suficiente para afirmar una diferencia significativa entre los dos grupos.\n",
      "------------------------------------------------------\n",
      "Para el departamento IT/IS vemos que:\n",
      "No podemos rechazar la hipótesis nula.\n",
      "No hay evidencia suficiente para afirmar una diferencia significativa entre los dos grupos.\n",
      "------------------------------------------------------\n",
      "Para el departamento SOFTWARE ENGINEERING vemos que:\n",
      "No podemos rechazar la hipótesis nula.\n",
      "No hay evidencia suficiente para afirmar una diferencia significativa entre los dos grupos.\n",
      "------------------------------------------------------\n",
      "Para el departamento ADMIN OFFICES vemos que:\n",
      "Con un p_valor de: 0.023559977703211422\n",
      "¡¡¡Rechazamos la hipótesis nula!!!\n",
      "*** Hay una diferencia significativa entre los dos grupos. ***\n",
      "------------------------------------------------------\n",
      "Para el departamento SALES vemos que:\n",
      "No podemos rechazar la hipótesis nula.\n",
      "No hay evidencia suficiente para afirmar una diferencia significativa entre los dos grupos.\n",
      "------------------------------------------------------\n",
      "Para el departamento EXECUTIVE OFFICER vemos que:\n",
      "No podemos rechazar la hipótesis nula.\n",
      "No hay evidencia suficiente para afirmar una diferencia significativa entre los dos grupos.\n",
      "------------------------------------------------------\n"
     ]
    }
   ],
   "source": [
    "departamentos = df[\"department\"].unique()\n",
    "\n",
    "#Filtramos por departamentos, agrupamos en ex_empleado/empleado y comparamos con la implicacion\n",
    "for dep in departamentos:\n",
    "    empleado = df[(df['termd'] == 'No') & (df['department'] == dep)][\"engagementsurvey\"]\n",
    "    ex_empleado = df[(df['termd'] == 'Yes') & (df['department'] == dep)][\"engagementsurvey\"]\n",
    "\n",
    "    # llamamos a la función que hemos creado\n",
    "    print(f\"Para el departamento {dep.upper()} vemos que:\")\n",
    "    prueba_hipotesis(empleado, ex_empleado)\n",
    "    print(\"------------------------------------------------------\")"
   ]
  },
  {
   "cell_type": "markdown",
   "metadata": {},
   "source": [
    "## En ADMIN OFFICES encontramos una diferencia significativa entre los que se van y los que se quedan y su implicación"
   ]
  },
  {
   "cell_type": "code",
   "execution_count": 103,
   "metadata": {},
   "outputs": [
    {
     "name": "stdout",
     "output_type": "stream",
     "text": [
      "Para el departamento PRODUCTION siendo Masculine vemos que:\n",
      "No podemos rechazar la hipótesis nula.\n",
      "No hay evidencia suficiente para afirmar una diferencia significativa entre los dos grupos.\n",
      "------------------------------------------------------\n",
      "Para el departamento IT/IS siendo Masculine vemos que:\n",
      "No podemos rechazar la hipótesis nula.\n",
      "No hay evidencia suficiente para afirmar una diferencia significativa entre los dos grupos.\n",
      "------------------------------------------------------\n",
      "Para el departamento SOFTWARE ENGINEERING siendo Masculine vemos que:\n",
      "No podemos rechazar la hipótesis nula.\n",
      "No hay evidencia suficiente para afirmar una diferencia significativa entre los dos grupos.\n",
      "------------------------------------------------------\n",
      "Para el departamento ADMIN OFFICES siendo Masculine vemos que:\n",
      "No podemos rechazar la hipótesis nula.\n",
      "No hay evidencia suficiente para afirmar una diferencia significativa entre los dos grupos.\n",
      "------------------------------------------------------\n",
      "Para el departamento SALES siendo Masculine vemos que:\n",
      "No podemos rechazar la hipótesis nula.\n",
      "No hay evidencia suficiente para afirmar una diferencia significativa entre los dos grupos.\n",
      "------------------------------------------------------\n",
      "Para el departamento EXECUTIVE OFFICER siendo Masculine vemos que:\n",
      "No podemos rechazar la hipótesis nula.\n",
      "No hay evidencia suficiente para afirmar una diferencia significativa entre los dos grupos.\n",
      "------------------------------------------------------\n",
      "Para el departamento PRODUCTION siendo Femenine vemos que:\n",
      "No podemos rechazar la hipótesis nula.\n",
      "No hay evidencia suficiente para afirmar una diferencia significativa entre los dos grupos.\n",
      "------------------------------------------------------\n",
      "Para el departamento IT/IS siendo Femenine vemos que:\n",
      "No podemos rechazar la hipótesis nula.\n",
      "No hay evidencia suficiente para afirmar una diferencia significativa entre los dos grupos.\n",
      "------------------------------------------------------\n",
      "Para el departamento SOFTWARE ENGINEERING siendo Femenine vemos que:\n",
      "No podemos rechazar la hipótesis nula.\n",
      "No hay evidencia suficiente para afirmar una diferencia significativa entre los dos grupos.\n",
      "------------------------------------------------------\n",
      "Para el departamento ADMIN OFFICES siendo Femenine vemos que:\n",
      "Con un p_valor de: 0.007745177167929431\n",
      "¡¡¡Rechazamos la hipótesis nula!!!\n",
      "*** Hay una diferencia significativa entre los dos grupos. ***\n",
      "------------------------------------------------------\n",
      "Para el departamento SALES siendo Femenine vemos que:\n",
      "No podemos rechazar la hipótesis nula.\n",
      "No hay evidencia suficiente para afirmar una diferencia significativa entre los dos grupos.\n",
      "------------------------------------------------------\n",
      "Para el departamento EXECUTIVE OFFICER siendo Femenine vemos que:\n",
      "No podemos rechazar la hipótesis nula.\n",
      "No hay evidencia suficiente para afirmar una diferencia significativa entre los dos grupos.\n",
      "------------------------------------------------------\n"
     ]
    }
   ],
   "source": [
    "sexo = df[\"genderid\"].unique()\n",
    "\n",
    "#Filtramos por departamentos, agrupamos en ex_empleado/empleado y comparamos con la implicacion\n",
    "for sex in sexo:\n",
    "    for dep in departamentos:\n",
    "        empleado = df[(df['termd'] == 'No') & (df['department'] == dep) & (df['genderid'] == sex)][\"engagementsurvey\"]\n",
    "        ex_empleado = df[(df['termd'] == 'Yes') & (df['department'] == dep)][\"engagementsurvey\"]\n",
    "\n",
    "        # llamamos a la función que hemos creado\n",
    "        print(f\"Para el departamento {dep.upper()} siendo {sex} vemos que:\")\n",
    "        prueba_hipotesis(empleado, ex_empleado)\n",
    "        print(\"------------------------------------------------------\")"
   ]
  },
  {
   "cell_type": "markdown",
   "metadata": {},
   "source": [
    "## En ADMIN OFFICES encontramos una diferencia significativa entre los que se van y los que se quedan y su implicación y su GÉNERO"
   ]
  },
  {
   "cell_type": "code",
   "execution_count": 79,
   "metadata": {},
   "outputs": [],
   "source": [
    "# lo primero que hacemos es crear una función para testar la normalidad de los datos\n",
    "def normalidad(dataframe, columna):\n",
    "    \"\"\"\n",
    "    Evalúa la normalidad de una columna de datos de un DataFrame utilizando la prueba de Shapiro-Wilk.\n",
    "\n",
    "    Parámetros:\n",
    "        dataframe (DataFrame): El DataFrame que contiene los datos.\n",
    "        columna (str): El nombre de la columna en el DataFrame que se va a evaluar para la normalidad.\n",
    "\n",
    "    Returns:\n",
    "        None: Imprime un mensaje indicando si los datos siguen o no una distribución normal.\n",
    "    \"\"\"\n",
    "\n",
    "    statistic, p_value = stats.shapiro(dataframe[columna])\n",
    "    if p_value > 0.05:\n",
    "        print(f\"Para la columna {columna} los datos siguen una distribución normal.\")\n",
    "    else:\n",
    "        print(f\"Para la columna {columna} los datos no siguen una distribución normal.\")\n",
    "\n",
    "    "
   ]
  },
  {
   "cell_type": "code",
   "execution_count": 80,
   "metadata": {},
   "outputs": [
    {
     "name": "stdout",
     "output_type": "stream",
     "text": [
      "Para la columna engagementsurvey los datos no siguen una distribución normal.\n"
     ]
    }
   ],
   "source": [
    "normalidad(df,'engagementsurvey')"
   ]
  },
  {
   "cell_type": "code",
   "execution_count": 93,
   "metadata": {},
   "outputs": [],
   "source": [
    "def prueba_mann_whitney(emp_no, emp_yes):\n",
    "    if len(emp_no) == 0 or len(emp_yes) == 0:\n",
    "        print(\"No hay datos suficientes para realizar la prueba de Mann-Whitney U.\")\n",
    "        return\n",
    "\n",
    "    # Aplicar la prueba de Mann-Whitney U\n",
    "    _, p_value = stats.mannwhitneyu(emp_no, emp_yes)\n",
    "\n",
    "    # Imprimir los resultados\n",
    "    if p_value < 0.05:\n",
    "        print(p_value)\n",
    "        print(\"Hay una diferencia significativa en las medianas.\")\n",
    "    else:\n",
    "        print(p_value)\n",
    "        print(\"No hay una diferencia significativa en las medianas.\")"
   ]
  },
  {
   "cell_type": "code",
   "execution_count": 94,
   "metadata": {},
   "outputs": [
    {
     "name": "stdout",
     "output_type": "stream",
     "text": [
      "Para el departamento PRODUCTION:\n",
      "0.8705538903416186\n",
      "No hay una diferencia significativa en las medianas.\n",
      "------------------------------------------------------\n",
      "Para el departamento IT/IS:\n",
      "0.3813671664601166\n",
      "No hay una diferencia significativa en las medianas.\n",
      "------------------------------------------------------\n",
      "Para el departamento SOFTWARE ENGINEERING:\n",
      "0.6475057684266377\n",
      "No hay una diferencia significativa en las medianas.\n",
      "------------------------------------------------------\n",
      "Para el departamento ADMIN OFFICES:\n",
      "0.05993542764678846\n",
      "No hay una diferencia significativa en las medianas.\n",
      "------------------------------------------------------\n",
      "Para el departamento SALES:\n",
      "0.6027958728797822\n",
      "No hay una diferencia significativa en las medianas.\n",
      "------------------------------------------------------\n",
      "Para el departamento EXECUTIVE OFFICER:\n",
      "No hay datos suficientes para realizar la prueba de Mann-Whitney U.\n",
      "------------------------------------------------------\n"
     ]
    }
   ],
   "source": [
    "departamentos = df[\"department\"].unique()\n",
    "\n",
    "for dep in departamentos:\n",
    "    empleado_no = df[(df['termd'] == 'No') & (df['department'] == dep)][\"engagementsurvey\"]\n",
    "    empleado_yes = df[(df['termd'] == 'Yes') & (df['department'] == dep)][\"engagementsurvey\"]\n",
    "\n",
    "    print(f\"Para el departamento {dep.upper()}:\")\n",
    "    prueba_mann_whitney(empleado_no, empleado_yes)\n",
    "    print(\"------------------------------------------------------\")\n"
   ]
  },
  {
   "cell_type": "code",
   "execution_count": 104,
   "metadata": {},
   "outputs": [
    {
     "name": "stdout",
     "output_type": "stream",
     "text": [
      "Para el departamento PRODUCTION siendo Masculine vemos que:\n",
      "0.8776719505688036\n",
      "No hay una diferencia significativa en las medianas.\n",
      "------------------------------------------------------\n",
      "Para el departamento IT/IS siendo Masculine vemos que:\n",
      "0.2791800374254878\n",
      "No hay una diferencia significativa en las medianas.\n",
      "------------------------------------------------------\n",
      "Para el departamento SOFTWARE ENGINEERING siendo Masculine vemos que:\n",
      "0.8\n",
      "No hay una diferencia significativa en las medianas.\n",
      "------------------------------------------------------\n",
      "Para el departamento ADMIN OFFICES siendo Masculine vemos que:\n",
      "0.4\n",
      "No hay una diferencia significativa en las medianas.\n",
      "------------------------------------------------------\n",
      "Para el departamento SALES siendo Masculine vemos que:\n",
      "1.0\n",
      "No hay una diferencia significativa en las medianas.\n",
      "------------------------------------------------------\n",
      "Para el departamento EXECUTIVE OFFICER siendo Masculine vemos que:\n",
      "No hay datos suficientes para realizar la prueba de Mann-Whitney U.\n",
      "------------------------------------------------------\n",
      "Para el departamento PRODUCTION siendo Femenine vemos que:\n",
      "0.7199626716466183\n",
      "No hay una diferencia significativa en las medianas.\n",
      "------------------------------------------------------\n",
      "Para el departamento IT/IS siendo Femenine vemos que:\n",
      "0.6459079600956654\n",
      "No hay una diferencia significativa en las medianas.\n",
      "------------------------------------------------------\n",
      "Para el departamento SOFTWARE ENGINEERING siendo Femenine vemos que:\n",
      "0.7857142857142857\n",
      "No hay una diferencia significativa en las medianas.\n",
      "------------------------------------------------------\n",
      "Para el departamento ADMIN OFFICES siendo Femenine vemos que:\n",
      "0.04359664488554136\n",
      "Hay una diferencia significativa en las medianas.\n",
      "------------------------------------------------------\n",
      "Para el departamento SALES siendo Femenine vemos que:\n",
      "0.2651361440553447\n",
      "No hay una diferencia significativa en las medianas.\n",
      "------------------------------------------------------\n",
      "Para el departamento EXECUTIVE OFFICER siendo Femenine vemos que:\n",
      "No hay datos suficientes para realizar la prueba de Mann-Whitney U.\n",
      "------------------------------------------------------\n"
     ]
    }
   ],
   "source": [
    "sexo = df[\"genderid\"].unique()\n",
    "\n",
    "#Filtramos por departamentos, agrupamos en ex_empleado/empleado y comparamos con la implicacion\n",
    "for sex in sexo:\n",
    "    for dep in departamentos:\n",
    "        empleado = df[(df['termd'] == 'No') & (df['department'] == dep) & (df['genderid'] == sex)][\"engagementsurvey\"]\n",
    "        ex_empleado = df[(df['termd'] == 'Yes') & (df['department'] == dep)][\"engagementsurvey\"]\n",
    "\n",
    "        # llamamos a la función que hemos creado\n",
    "        print(f\"Para el departamento {dep.upper()} siendo {sex} vemos que:\")\n",
    "        prueba_mann_whitney(empleado, ex_empleado)\n",
    "        print(\"------------------------------------------------------\")"
   ]
  },
  {
   "cell_type": "markdown",
   "metadata": {},
   "source": [
    "## Siendo mujer hay una diferencia significativa en ADMIN OFFICES"
   ]
  }
 ],
 "metadata": {
  "kernelspec": {
   "display_name": "pruebalberto",
   "language": "python",
   "name": "python3"
  },
  "language_info": {
   "codemirror_mode": {
    "name": "ipython",
    "version": 3
   },
   "file_extension": ".py",
   "mimetype": "text/x-python",
   "name": "python",
   "nbconvert_exporter": "python",
   "pygments_lexer": "ipython3",
   "version": "3.11.4"
  }
 },
 "nbformat": 4,
 "nbformat_minor": 2
}
