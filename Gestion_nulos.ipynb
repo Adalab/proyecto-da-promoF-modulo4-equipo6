{
 "cells": [
  {
   "cell_type": "code",
   "execution_count": 1,
   "metadata": {},
   "outputs": [],
   "source": [
    "import pandas as pd\n",
    "import numpy as np\n",
    "pd.set_option('display.max_rows', None)\n",
    "pd.set_option('display.max_columns', None)\n",
    "\n",
    "# Imputación de nulos usando métodos avanzados estadísticos\n",
    "# -----------------------------------------------------------------------\n",
    "from sklearn.impute import SimpleImputer\n",
    "from sklearn.experimental import enable_iterative_imputer\n",
    "from sklearn.impute import IterativeImputer\n",
    "from sklearn.impute import KNNImputer\n",
    "from sklearn.preprocessing import LabelEncoder\n",
    "\n",
    "# AB testing\n",
    "# -----------------------------------------------------------------------\n",
    "from scipy.stats import ttest_ind\n",
    "from scipy.stats import levene\n",
    "\n",
    "# Librerías de visualización\n",
    "# -----------------------------------------------------------------------\n",
    "import seaborn as sns\n",
    "import matplotlib.pyplot as plt"
   ]
  },
  {
   "cell_type": "code",
   "execution_count": 2,
   "metadata": {},
   "outputs": [],
   "source": [
    "df = pd.read_csv('data/recursos-humanos_v1.csv', index_col = 0)"
   ]
  },
  {
   "cell_type": "markdown",
   "metadata": {},
   "source": [
    "### GESTIÓN DE NULOS"
   ]
  },
  {
   "cell_type": "code",
   "execution_count": 6,
   "metadata": {},
   "outputs": [],
   "source": [
    "#Copia del df\n",
    "df_copy = df.copy()"
   ]
  },
  {
   "cell_type": "code",
   "execution_count": 7,
   "metadata": {},
   "outputs": [
    {
     "name": "stdout",
     "output_type": "stream",
     "text": [
      "<class 'pandas.core.frame.DataFrame'>\n",
      "Int64Index: 311 entries, 0 to 310\n",
      "Data columns (total 29 columns):\n",
      " #   Column                      Non-Null Count  Dtype  \n",
      "---  ------                      --------------  -----  \n",
      " 0   Employee_Name               164 non-null    object \n",
      " 1   EmpID                       311 non-null    float64\n",
      " 2   GenderID                    311 non-null    float64\n",
      " 3   EmpStatusID                 311 non-null    float64\n",
      " 4   DeptID                      311 non-null    float64\n",
      " 5   Salary                      311 non-null    object \n",
      " 6   Termd                       311 non-null    float64\n",
      " 7   Position                    311 non-null    object \n",
      " 8   State                       311 non-null    object \n",
      " 9   Zip                         311 non-null    float64\n",
      " 10  DOB                         311 non-null    object \n",
      " 11  MaritalDesc                 311 non-null    object \n",
      " 12  CitizenDesc                 263 non-null    object \n",
      " 13  HispanicLatino              311 non-null    object \n",
      " 14  RaceDesc                    227 non-null    object \n",
      " 15  DateofHire                  228 non-null    object \n",
      " 16  DateofTermination           102 non-null    object \n",
      " 17  TermReason                  251 non-null    object \n",
      " 18  EmploymentStatus            311 non-null    object \n",
      " 19  ManagerName                 220 non-null    object \n",
      " 20  ManagerID                   303 non-null    float64\n",
      " 21  RecruitmentSource           266 non-null    object \n",
      " 22  PerformanceScore            311 non-null    object \n",
      " 23  EngagementSurvey            311 non-null    float64\n",
      " 24  EmpSatisfaction             311 non-null    float64\n",
      " 25  SpecialProjectsCount        198 non-null    float64\n",
      " 26  LastPerformanceReview_Date  243 non-null    object \n",
      " 27  DaysLateLast30              191 non-null    float64\n",
      " 28  Absences                    311 non-null    float64\n",
      "dtypes: float64(12), object(17)\n",
      "memory usage: 72.9+ KB\n"
     ]
    }
   ],
   "source": [
    "df_copy.info()"
   ]
  },
  {
   "cell_type": "code",
   "execution_count": 8,
   "metadata": {},
   "outputs": [],
   "source": [
    "def unificar_hispaniclatino(df):\n",
    "    # Unificar valores 'Yes' y 'yes' como 'Yes' y 'No' y 'no' como 'No' en la columna 'HispanicLatino'\n",
    "    df['HispanicLatino'] = df['HispanicLatino'].str.lower().replace({'yes': 'Yes', 'no': 'No'})\n",
    "\n",
    "def imputar_race_desc(df):\n",
    "    # Si en la columna RaceDesc hay un nulo y en la columna HispanicLatino hay un Yes, imputa un \"Hispanic\"\n",
    "    df['RaceDesc'] = df.apply(lambda row: 'Hispanic' if row['HispanicLatino'] == 'Yes' and pd.isnull(row['RaceDesc']) else row['RaceDesc'], axis=1)\n",
    "\n",
    "def imputar_race_desc_unknown(df):\n",
    "    # A los nulos restantes, les meto una etiqueta de \"Unknown\"\n",
    "    df['RaceDesc'].fillna('Unknown', inplace=True)\n",
    "\n",
    "def nulos_999(df, columns, value):\n",
    "    for column in columns:\n",
    "        df[column].fillna(value, inplace=True)\n",
    "\n",
    "def mediana_nulos(df, column):\n",
    "    mediana_value = df[column].median()\n",
    "    df[column].fillna(mediana_value, inplace=True)\n",
    "\n",
    "def moda_nulos(df, column):\n",
    "    moda_value = df[column].mode().iloc[0]\n",
    "    df[column].fillna(moda_value, inplace=True)\n",
    "\n",
    "# Llamadas\n",
    "unificar_hispaniclatino(df_copy)\n",
    "imputar_race_desc(df_copy)\n",
    "imputar_race_desc_unknown(df_copy)\n",
    "\n",
    "# Llamadas para valores 999\n",
    "columns_to_fill_999 = ['DaysLateLast30', 'Zip']\n",
    "nulos_999(df_copy, columns_to_fill_999, 999)\n",
    "\n",
    "# Llamada para mediana\n",
    "mediana_nulos(df_copy, 'SpecialProjectsCount')\n",
    "\n",
    "# Llamadas para moda\n",
    "moda_nulos(df_copy, 'CitizenDesc')\n",
    "moda_nulos(df_copy, 'RecruitmentSource')\n"
   ]
  },
  {
   "cell_type": "code",
   "execution_count": 9,
   "metadata": {},
   "outputs": [
    {
     "data": {
      "text/plain": [
       "Employee_Name                 147\n",
       "EmpID                           0\n",
       "GenderID                        0\n",
       "EmpStatusID                     0\n",
       "DeptID                          0\n",
       "Salary                          0\n",
       "Termd                           0\n",
       "Position                        0\n",
       "State                           0\n",
       "Zip                             0\n",
       "DOB                             0\n",
       "MaritalDesc                     0\n",
       "CitizenDesc                    48\n",
       "HispanicLatino                  0\n",
       "RaceDesc                       84\n",
       "DateofHire                     83\n",
       "DateofTermination             209\n",
       "TermReason                     60\n",
       "EmploymentStatus                0\n",
       "ManagerName                    91\n",
       "ManagerID                       8\n",
       "RecruitmentSource              45\n",
       "PerformanceScore                0\n",
       "EngagementSurvey                0\n",
       "EmpSatisfaction                 0\n",
       "SpecialProjectsCount          113\n",
       "LastPerformanceReview_Date     68\n",
       "DaysLateLast30                120\n",
       "Absences                        0\n",
       "dtype: int64"
      ]
     },
     "execution_count": 9,
     "metadata": {},
     "output_type": "execute_result"
    }
   ],
   "source": [
    "df.isnull().sum()"
   ]
  },
  {
   "cell_type": "code",
   "execution_count": 10,
   "metadata": {},
   "outputs": [
    {
     "data": {
      "text/plain": [
       "Employee_Name                 47.266881\n",
       "EmpID                          0.000000\n",
       "GenderID                       0.000000\n",
       "EmpStatusID                    0.000000\n",
       "DeptID                         0.000000\n",
       "Salary                         0.000000\n",
       "Termd                          0.000000\n",
       "Position                       0.000000\n",
       "State                          0.000000\n",
       "Zip                            0.000000\n",
       "DOB                            0.000000\n",
       "MaritalDesc                    0.000000\n",
       "CitizenDesc                   15.434084\n",
       "HispanicLatino                 0.000000\n",
       "RaceDesc                      27.009646\n",
       "DateofHire                    26.688103\n",
       "DateofTermination             67.202572\n",
       "TermReason                    19.292605\n",
       "EmploymentStatus               0.000000\n",
       "ManagerName                   29.260450\n",
       "ManagerID                      2.572347\n",
       "RecruitmentSource             14.469453\n",
       "PerformanceScore               0.000000\n",
       "EngagementSurvey               0.000000\n",
       "EmpSatisfaction                0.000000\n",
       "SpecialProjectsCount          36.334405\n",
       "LastPerformanceReview_Date    21.864952\n",
       "DaysLateLast30                38.585209\n",
       "Absences                       0.000000\n",
       "dtype: float64"
      ]
     },
     "execution_count": 10,
     "metadata": {},
     "output_type": "execute_result"
    }
   ],
   "source": [
    "df.isnull().sum()/df.shape[0]*100"
   ]
  },
  {
   "cell_type": "markdown",
   "metadata": {},
   "source": [
    "### COLUMNA RACEDESC\n",
    "Es una columna tipo object por lo que no se puede usar un knn e iterative, \n",
    "hecha la prueba de pasarlo a numerico pero luego no tiene sentido al volver\n",
    "a pasarlo a categórica. En vez de eso, uso la columna HispanicLatino para\n",
    "rellenar algunos nulos y al resto le doy etiqueta de Unknown"
   ]
  },
  {
   "cell_type": "code",
   "execution_count": 11,
   "metadata": {},
   "outputs": [
    {
     "data": {
      "text/plain": [
       "count       227\n",
       "unique        6\n",
       "top       White\n",
       "freq        135\n",
       "Name: RaceDesc, dtype: object"
      ]
     },
     "execution_count": 11,
     "metadata": {},
     "output_type": "execute_result"
    }
   ],
   "source": [
    "df['RaceDesc'].describe()"
   ]
  },
  {
   "cell_type": "code",
   "execution_count": 12,
   "metadata": {},
   "outputs": [],
   "source": [
    "def unificar_hispaniclatino(df):\n",
    "    # Unificar valores 'Yes' y 'yes' como 'Yes' y 'No' y 'no' como 'No' en la columna 'HispanicLatino'\n",
    "    df['HispanicLatino'] = df['HispanicLatino'].str.lower().replace({'yes': 'Yes', 'no': 'No'})\n",
    "\n",
    "# Llamada\n",
    "unificar_hispaniclatino(df_copy)"
   ]
  },
  {
   "cell_type": "code",
   "execution_count": 13,
   "metadata": {},
   "outputs": [],
   "source": [
    "def imputar_race_desc(df):\n",
    "    # Si en la columna RaceDesc hay un nulo y en la columna HispanicLatino hay un Yes, imputa un \"Hispanic\"\n",
    "    df['RaceDesc'] = df.apply(lambda row: 'Hispanic' if row['HispanicLatino'] == 'Yes' and pd.isnull(row['RaceDesc']) else row['RaceDesc'], axis=1)\n",
    "\n",
    "# Llamada\n",
    "imputar_race_desc(df_copy)"
   ]
  },
  {
   "cell_type": "code",
   "execution_count": 14,
   "metadata": {},
   "outputs": [
    {
     "data": {
      "text/plain": [
       "Employee_Name                 147\n",
       "EmpID                           0\n",
       "GenderID                        0\n",
       "EmpStatusID                     0\n",
       "DeptID                          0\n",
       "Salary                          0\n",
       "Termd                           0\n",
       "Position                        0\n",
       "State                           0\n",
       "Zip                             0\n",
       "DOB                             0\n",
       "MaritalDesc                     0\n",
       "CitizenDesc                     0\n",
       "HispanicLatino                  0\n",
       "RaceDesc                        0\n",
       "DateofHire                     83\n",
       "DateofTermination             209\n",
       "TermReason                     60\n",
       "EmploymentStatus                0\n",
       "ManagerName                    91\n",
       "ManagerID                       8\n",
       "RecruitmentSource               0\n",
       "PerformanceScore                0\n",
       "EngagementSurvey                0\n",
       "EmpSatisfaction                 0\n",
       "SpecialProjectsCount            0\n",
       "LastPerformanceReview_Date     68\n",
       "DaysLateLast30                  0\n",
       "Absences                        0\n",
       "dtype: int64"
      ]
     },
     "execution_count": 14,
     "metadata": {},
     "output_type": "execute_result"
    }
   ],
   "source": [
    "df_copy.isnull().sum()"
   ]
  },
  {
   "cell_type": "code",
   "execution_count": 15,
   "metadata": {},
   "outputs": [
    {
     "data": {
      "text/plain": [
       "Employee_Name                 47.266881\n",
       "EmpID                          0.000000\n",
       "GenderID                       0.000000\n",
       "EmpStatusID                    0.000000\n",
       "DeptID                         0.000000\n",
       "Salary                         0.000000\n",
       "Termd                          0.000000\n",
       "Position                       0.000000\n",
       "State                          0.000000\n",
       "Zip                            0.000000\n",
       "DOB                            0.000000\n",
       "MaritalDesc                    0.000000\n",
       "CitizenDesc                    0.000000\n",
       "HispanicLatino                 0.000000\n",
       "RaceDesc                       0.000000\n",
       "DateofHire                    26.688103\n",
       "DateofTermination             67.202572\n",
       "TermReason                    19.292605\n",
       "EmploymentStatus               0.000000\n",
       "ManagerName                   29.260450\n",
       "ManagerID                      2.572347\n",
       "RecruitmentSource              0.000000\n",
       "PerformanceScore               0.000000\n",
       "EngagementSurvey               0.000000\n",
       "EmpSatisfaction                0.000000\n",
       "SpecialProjectsCount           0.000000\n",
       "LastPerformanceReview_Date    21.864952\n",
       "DaysLateLast30                 0.000000\n",
       "Absences                       0.000000\n",
       "dtype: float64"
      ]
     },
     "execution_count": 15,
     "metadata": {},
     "output_type": "execute_result"
    }
   ],
   "source": [
    "df_copy.isnull().sum()/df_copy.shape[0]*100"
   ]
  },
  {
   "cell_type": "code",
   "execution_count": 16,
   "metadata": {},
   "outputs": [],
   "source": [
    "def imputar_race_desc_unknown(df):\n",
    "    # A los nulos restantes, les meto una etiqueta de \"Unknown\"\n",
    "    df['RaceDesc'].fillna('Unknown', inplace=True)\n",
    "\n",
    "# Llamada\n",
    "imputar_race_desc_unknown(df_copy)"
   ]
  },
  {
   "cell_type": "code",
   "execution_count": 17,
   "metadata": {},
   "outputs": [
    {
     "data": {
      "text/plain": [
       "0"
      ]
     },
     "execution_count": 17,
     "metadata": {},
     "output_type": "execute_result"
    }
   ],
   "source": [
    "df_copy['RaceDesc'].isnull().sum()"
   ]
  },
  {
   "cell_type": "markdown",
   "metadata": {},
   "source": [
    "### COLUMNAS DAYSLATELAST30 & ZIP\n",
    "Fillna con 999"
   ]
  },
  {
   "cell_type": "code",
   "execution_count": 18,
   "metadata": {},
   "outputs": [],
   "source": [
    "#le meto un 999 a los nulos\n",
    "def nulos_999(df, columns, value):\n",
    "    for column in columns:\n",
    "        df[column].fillna(value, inplace=True)\n",
    "\n",
    "# Llamada\n",
    "columns_to_fill = ['DaysLateLast30', 'Zip']\n",
    "nulos_999(df_copy, columns_to_fill, 999)\n"
   ]
  },
  {
   "cell_type": "code",
   "execution_count": 19,
   "metadata": {},
   "outputs": [
    {
     "data": {
      "text/plain": [
       "DaysLateLast30    0\n",
       "Zip               0\n",
       "dtype: int64"
      ]
     },
     "execution_count": 19,
     "metadata": {},
     "output_type": "execute_result"
    }
   ],
   "source": [
    "df_copy[['DaysLateLast30', 'Zip']].isnull().sum()"
   ]
  },
  {
   "cell_type": "markdown",
   "metadata": {},
   "source": [
    "### COLUMNA SPECIALPROJECTSCOUNT\n",
    "Fillna mediana"
   ]
  },
  {
   "cell_type": "code",
   "execution_count": 20,
   "metadata": {},
   "outputs": [],
   "source": [
    "def mediana_nulos(df, column):\n",
    "    mediana_value = df[column].median()\n",
    "    df[column].fillna(mediana_value, inplace=True)\n",
    "\n",
    "# Llamada\n",
    "mediana_nulos(df_copy, 'SpecialProjectsCount')\n"
   ]
  },
  {
   "cell_type": "code",
   "execution_count": 21,
   "metadata": {},
   "outputs": [
    {
     "data": {
      "text/plain": [
       "0"
      ]
     },
     "execution_count": 21,
     "metadata": {},
     "output_type": "execute_result"
    }
   ],
   "source": [
    "df_copy['SpecialProjectsCount'].isnull().sum()"
   ]
  },
  {
   "cell_type": "markdown",
   "metadata": {},
   "source": [
    "### COLUMNAS CITIZENDESC & RECRUIMENTSOURCE\n",
    "Fillna con la moda"
   ]
  },
  {
   "cell_type": "code",
   "execution_count": 22,
   "metadata": {},
   "outputs": [],
   "source": [
    "def moda_nulos(df, column):\n",
    "    moda_value = df[column].mode().iloc[0]\n",
    "    df[column].fillna(moda_value, inplace=True)\n",
    "\n",
    "# Llamada\n",
    "moda_nulos(df_copy, 'CitizenDesc')\n",
    "\n",
    "# Llamada\n",
    "moda_nulos(df_copy, 'RecruitmentSource')\n"
   ]
  },
  {
   "cell_type": "markdown",
   "metadata": {},
   "source": [
    "### COLUMNA RACEDESC\n",
    "Método KNN e Iterative pasando las columnas usadas a numericas\n",
    "(No usar)"
   ]
  },
  {
   "cell_type": "code",
   "execution_count": 23,
   "metadata": {},
   "outputs": [],
   "source": [
    "# Columnas que quieres convertir\n",
    "columnas_a_convertir = ['CitizenDesc', 'HispanicLatino', 'RaceDesc']\n",
    "\n",
    "# Instanciar la clase LabelEncoder\n",
    "label_encoder = LabelEncoder()\n",
    "\n",
    "# Crear nuevas columnas numéricas y añadirlas al DataFrame\n",
    "for columna in columnas_a_convertir:\n",
    "    nueva_columna = f'{columna}_numerica'\n",
    "    df_copy[nueva_columna] = label_encoder.fit_transform(df_copy[columna])"
   ]
  },
  {
   "cell_type": "code",
   "execution_count": 24,
   "metadata": {},
   "outputs": [
    {
     "data": {
      "text/html": [
       "<div>\n",
       "<style scoped>\n",
       "    .dataframe tbody tr th:only-of-type {\n",
       "        vertical-align: middle;\n",
       "    }\n",
       "\n",
       "    .dataframe tbody tr th {\n",
       "        vertical-align: top;\n",
       "    }\n",
       "\n",
       "    .dataframe thead th {\n",
       "        text-align: right;\n",
       "    }\n",
       "</style>\n",
       "<table border=\"1\" class=\"dataframe\">\n",
       "  <thead>\n",
       "    <tr style=\"text-align: right;\">\n",
       "      <th></th>\n",
       "      <th>CitizenDesc_numerica</th>\n",
       "      <th>CitizenDesc</th>\n",
       "    </tr>\n",
       "  </thead>\n",
       "  <tbody>\n",
       "    <tr>\n",
       "      <th>251</th>\n",
       "      <td>2</td>\n",
       "      <td>US Citizen</td>\n",
       "    </tr>\n",
       "    <tr>\n",
       "      <th>304</th>\n",
       "      <td>2</td>\n",
       "      <td>US Citizen</td>\n",
       "    </tr>\n",
       "    <tr>\n",
       "      <th>237</th>\n",
       "      <td>2</td>\n",
       "      <td>US Citizen</td>\n",
       "    </tr>\n",
       "    <tr>\n",
       "      <th>293</th>\n",
       "      <td>2</td>\n",
       "      <td>US Citizen</td>\n",
       "    </tr>\n",
       "    <tr>\n",
       "      <th>131</th>\n",
       "      <td>2</td>\n",
       "      <td>US Citizen</td>\n",
       "    </tr>\n",
       "    <tr>\n",
       "      <th>245</th>\n",
       "      <td>2</td>\n",
       "      <td>US Citizen</td>\n",
       "    </tr>\n",
       "    <tr>\n",
       "      <th>310</th>\n",
       "      <td>2</td>\n",
       "      <td>US Citizen</td>\n",
       "    </tr>\n",
       "    <tr>\n",
       "      <th>57</th>\n",
       "      <td>2</td>\n",
       "      <td>US Citizen</td>\n",
       "    </tr>\n",
       "  </tbody>\n",
       "</table>\n",
       "</div>"
      ],
      "text/plain": [
       "     CitizenDesc_numerica CitizenDesc\n",
       "251                     2  US Citizen\n",
       "304                     2  US Citizen\n",
       "237                     2  US Citizen\n",
       "293                     2  US Citizen\n",
       "131                     2  US Citizen\n",
       "245                     2  US Citizen\n",
       "310                     2  US Citizen\n",
       "57                      2  US Citizen"
      ]
     },
     "execution_count": 24,
     "metadata": {},
     "output_type": "execute_result"
    }
   ],
   "source": [
    "df_copy[['CitizenDesc_numerica','CitizenDesc']].sample(8)"
   ]
  },
  {
   "cell_type": "code",
   "execution_count": 13,
   "metadata": {},
   "outputs": [],
   "source": [
    "# Reemplazar los valores 6 con NaN en las nuevas columnas numéricas\n",
    "columnas_numericas = ['RaceDesc_numerica']\n",
    "df_copy[columnas_numericas] = df_copy[columnas_numericas].replace(6, np.nan)"
   ]
  },
  {
   "cell_type": "code",
   "execution_count": 14,
   "metadata": {},
   "outputs": [],
   "source": [
    "# Reemplazar los valores 3 con NaN en las nuevas columnas numéricas\n",
    "columnas_numericas = ['CitizenDesc_numerica']\n",
    "df_copy[columnas_numericas] = df_copy[columnas_numericas].replace(3, np.nan)"
   ]
  },
  {
   "cell_type": "code",
   "execution_count": 15,
   "metadata": {},
   "outputs": [
    {
     "data": {
      "text/plain": [
       "Index(['Employee_Name', 'EmpID', 'GenderID', 'EmpStatusID', 'DeptID', 'Salary',\n",
       "       'Termd', 'Position', 'State', 'Zip', 'DOB', 'MaritalDesc',\n",
       "       'CitizenDesc', 'HispanicLatino', 'RaceDesc', 'DateofHire',\n",
       "       'DateofTermination', 'TermReason', 'EmploymentStatus', 'ManagerName',\n",
       "       'ManagerID', 'RecruitmentSource', 'PerformanceScore',\n",
       "       'EngagementSurvey', 'EmpSatisfaction', 'SpecialProjectsCount',\n",
       "       'LastPerformanceReview_Date', 'DaysLateLast30', 'Absences',\n",
       "       'CitizenDesc_numerica', 'HispanicLatino_numerica', 'RaceDesc_numerica'],\n",
       "      dtype='object')"
      ]
     },
     "execution_count": 15,
     "metadata": {},
     "output_type": "execute_result"
    }
   ],
   "source": [
    "df_copy.columns"
   ]
  },
  {
   "cell_type": "code",
   "execution_count": 16,
   "metadata": {},
   "outputs": [
    {
     "data": {
      "text/html": [
       "<div>\n",
       "<style scoped>\n",
       "    .dataframe tbody tr th:only-of-type {\n",
       "        vertical-align: middle;\n",
       "    }\n",
       "\n",
       "    .dataframe tbody tr th {\n",
       "        vertical-align: top;\n",
       "    }\n",
       "\n",
       "    .dataframe thead th {\n",
       "        text-align: right;\n",
       "    }\n",
       "</style>\n",
       "<table border=\"1\" class=\"dataframe\">\n",
       "  <thead>\n",
       "    <tr style=\"text-align: right;\">\n",
       "      <th></th>\n",
       "      <th>CitizenDesc_numerica</th>\n",
       "      <th>HispanicLatino_numerica</th>\n",
       "      <th>RaceDesc_numerica</th>\n",
       "    </tr>\n",
       "  </thead>\n",
       "  <tbody>\n",
       "    <tr>\n",
       "      <th>count</th>\n",
       "      <td>263.000000</td>\n",
       "      <td>311.000000</td>\n",
       "      <td>227.000000</td>\n",
       "    </tr>\n",
       "    <tr>\n",
       "      <th>mean</th>\n",
       "      <td>1.912548</td>\n",
       "      <td>0.090032</td>\n",
       "      <td>3.762115</td>\n",
       "    </tr>\n",
       "    <tr>\n",
       "      <th>std</th>\n",
       "      <td>0.395531</td>\n",
       "      <td>0.286689</td>\n",
       "      <td>1.595284</td>\n",
       "    </tr>\n",
       "    <tr>\n",
       "      <th>min</th>\n",
       "      <td>0.000000</td>\n",
       "      <td>0.000000</td>\n",
       "      <td>0.000000</td>\n",
       "    </tr>\n",
       "    <tr>\n",
       "      <th>25%</th>\n",
       "      <td>2.000000</td>\n",
       "      <td>0.000000</td>\n",
       "      <td>2.000000</td>\n",
       "    </tr>\n",
       "    <tr>\n",
       "      <th>50%</th>\n",
       "      <td>2.000000</td>\n",
       "      <td>0.000000</td>\n",
       "      <td>5.000000</td>\n",
       "    </tr>\n",
       "    <tr>\n",
       "      <th>75%</th>\n",
       "      <td>2.000000</td>\n",
       "      <td>0.000000</td>\n",
       "      <td>5.000000</td>\n",
       "    </tr>\n",
       "    <tr>\n",
       "      <th>max</th>\n",
       "      <td>2.000000</td>\n",
       "      <td>1.000000</td>\n",
       "      <td>5.000000</td>\n",
       "    </tr>\n",
       "  </tbody>\n",
       "</table>\n",
       "</div>"
      ],
      "text/plain": [
       "       CitizenDesc_numerica  HispanicLatino_numerica  RaceDesc_numerica\n",
       "count            263.000000               311.000000         227.000000\n",
       "mean               1.912548                 0.090032           3.762115\n",
       "std                0.395531                 0.286689           1.595284\n",
       "min                0.000000                 0.000000           0.000000\n",
       "25%                2.000000                 0.000000           2.000000\n",
       "50%                2.000000                 0.000000           5.000000\n",
       "75%                2.000000                 0.000000           5.000000\n",
       "max                2.000000                 1.000000           5.000000"
      ]
     },
     "execution_count": 16,
     "metadata": {},
     "output_type": "execute_result"
    }
   ],
   "source": [
    "df_copy[['CitizenDesc_numerica', 'HispanicLatino_numerica', 'RaceDesc_numerica']].describe()"
   ]
  },
  {
   "cell_type": "code",
   "execution_count": 19,
   "metadata": {},
   "outputs": [],
   "source": [
    "# Columnas a utilizar para imputar\n",
    "columnas_imputacion = ['HispanicLatino_numerica', 'CitizenDesc_numerica']\n",
    "\n",
    "# Imputación KNN\n",
    "imputer_knn = KNNImputer(n_neighbors=5)\n",
    "df_knn = imputer_knn.fit_transform(df_copy[columnas_imputacion + ['RaceDesc_numerica']])\n",
    "df_copy['RaceDesc_numerica_knn'] = df_knn[:, -1]\n",
    "\n",
    "# Imputación Iterative\n",
    "imputer_iterative = IterativeImputer(max_iter=20, random_state=42)\n",
    "df_iterative = imputer_iterative.fit_transform(df_copy[columnas_imputacion + ['RaceDesc_numerica']])\n",
    "df_copy['RaceDesc_numerica_iterative'] = df_iterative[:, -1]\n"
   ]
  },
  {
   "cell_type": "code",
   "execution_count": 20,
   "metadata": {},
   "outputs": [
    {
     "data": {
      "text/plain": [
       "Index(['Employee_Name', 'EmpID', 'GenderID', 'EmpStatusID', 'DeptID', 'Salary',\n",
       "       'Termd', 'Position', 'State', 'Zip', 'DOB', 'MaritalDesc',\n",
       "       'CitizenDesc', 'HispanicLatino', 'RaceDesc', 'DateofHire',\n",
       "       'DateofTermination', 'TermReason', 'EmploymentStatus', 'ManagerName',\n",
       "       'ManagerID', 'RecruitmentSource', 'PerformanceScore',\n",
       "       'EngagementSurvey', 'EmpSatisfaction', 'SpecialProjectsCount',\n",
       "       'LastPerformanceReview_Date', 'DaysLateLast30', 'Absences',\n",
       "       'CitizenDesc_numerica', 'HispanicLatino_numerica', 'RaceDesc_numerica',\n",
       "       'RaceDesc_numerica_knn', 'RaceDesc_numerica_iterative'],\n",
       "      dtype='object')"
      ]
     },
     "execution_count": 20,
     "metadata": {},
     "output_type": "execute_result"
    }
   ],
   "source": [
    "df_copy.columns"
   ]
  },
  {
   "cell_type": "code",
   "execution_count": 21,
   "metadata": {},
   "outputs": [
    {
     "data": {
      "text/html": [
       "<div>\n",
       "<style scoped>\n",
       "    .dataframe tbody tr th:only-of-type {\n",
       "        vertical-align: middle;\n",
       "    }\n",
       "\n",
       "    .dataframe tbody tr th {\n",
       "        vertical-align: top;\n",
       "    }\n",
       "\n",
       "    .dataframe thead th {\n",
       "        text-align: right;\n",
       "    }\n",
       "</style>\n",
       "<table border=\"1\" class=\"dataframe\">\n",
       "  <thead>\n",
       "    <tr style=\"text-align: right;\">\n",
       "      <th></th>\n",
       "      <th>RaceDesc_numerica</th>\n",
       "      <th>RaceDesc_numerica_knn</th>\n",
       "      <th>RaceDesc_numerica_iterative</th>\n",
       "    </tr>\n",
       "  </thead>\n",
       "  <tbody>\n",
       "    <tr>\n",
       "      <th>count</th>\n",
       "      <td>227.000000</td>\n",
       "      <td>311.000000</td>\n",
       "      <td>311.000000</td>\n",
       "    </tr>\n",
       "    <tr>\n",
       "      <th>mean</th>\n",
       "      <td>3.762115</td>\n",
       "      <td>3.735691</td>\n",
       "      <td>3.777306</td>\n",
       "    </tr>\n",
       "    <tr>\n",
       "      <th>std</th>\n",
       "      <td>1.595284</td>\n",
       "      <td>1.370182</td>\n",
       "      <td>1.365080</td>\n",
       "    </tr>\n",
       "    <tr>\n",
       "      <th>min</th>\n",
       "      <td>0.000000</td>\n",
       "      <td>0.000000</td>\n",
       "      <td>0.000000</td>\n",
       "    </tr>\n",
       "    <tr>\n",
       "      <th>25%</th>\n",
       "      <td>2.000000</td>\n",
       "      <td>2.000000</td>\n",
       "      <td>2.000000</td>\n",
       "    </tr>\n",
       "    <tr>\n",
       "      <th>50%</th>\n",
       "      <td>5.000000</td>\n",
       "      <td>3.600000</td>\n",
       "      <td>3.839055</td>\n",
       "    </tr>\n",
       "    <tr>\n",
       "      <th>75%</th>\n",
       "      <td>5.000000</td>\n",
       "      <td>5.000000</td>\n",
       "      <td>5.000000</td>\n",
       "    </tr>\n",
       "    <tr>\n",
       "      <th>max</th>\n",
       "      <td>5.000000</td>\n",
       "      <td>5.000000</td>\n",
       "      <td>5.000000</td>\n",
       "    </tr>\n",
       "  </tbody>\n",
       "</table>\n",
       "</div>"
      ],
      "text/plain": [
       "       RaceDesc_numerica  RaceDesc_numerica_knn  RaceDesc_numerica_iterative\n",
       "count         227.000000             311.000000                   311.000000\n",
       "mean            3.762115               3.735691                     3.777306\n",
       "std             1.595284               1.370182                     1.365080\n",
       "min             0.000000               0.000000                     0.000000\n",
       "25%             2.000000               2.000000                     2.000000\n",
       "50%             5.000000               3.600000                     3.839055\n",
       "75%             5.000000               5.000000                     5.000000\n",
       "max             5.000000               5.000000                     5.000000"
      ]
     },
     "execution_count": 21,
     "metadata": {},
     "output_type": "execute_result"
    }
   ],
   "source": [
    "df_copy[['RaceDesc_numerica','RaceDesc_numerica_knn', 'RaceDesc_numerica_iterative']].describe()"
   ]
  },
  {
   "cell_type": "code",
   "execution_count": 22,
   "metadata": {},
   "outputs": [],
   "source": [
    "#Elimino las columnas que no me interesan y renombro con la que me quedo\n",
    "lista_copy_nulos = ['CitizenDesc_numerica', 'HispanicLatino_numerica', 'RaceDesc_numerica',\n",
    "       'RaceDesc_numerica_knn']\n",
    "\n",
    "def eliminar_columna(df,eliminar):\n",
    "    return df.drop(eliminar, axis=1,inplace=True)\n",
    "\n",
    "eliminar_columna(df_copy, lista_copy_nulos)"
   ]
  },
  {
   "cell_type": "code",
   "execution_count": 23,
   "metadata": {},
   "outputs": [
    {
     "data": {
      "text/plain": [
       "Index(['Employee_Name', 'EmpID', 'GenderID', 'EmpStatusID', 'DeptID', 'Salary',\n",
       "       'Termd', 'Position', 'State', 'Zip', 'DOB', 'MaritalDesc',\n",
       "       'CitizenDesc', 'HispanicLatino', 'RaceDesc', 'DateofHire',\n",
       "       'DateofTermination', 'TermReason', 'EmploymentStatus', 'ManagerName',\n",
       "       'ManagerID', 'RecruitmentSource', 'PerformanceScore',\n",
       "       'EngagementSurvey', 'EmpSatisfaction', 'SpecialProjectsCount',\n",
       "       'LastPerformanceReview_Date', 'DaysLateLast30', 'Absences',\n",
       "       'RaceDesc_numerica_iterative'],\n",
       "      dtype='object')"
      ]
     },
     "execution_count": 23,
     "metadata": {},
     "output_type": "execute_result"
    }
   ],
   "source": [
    "df_copy.columns"
   ]
  },
  {
   "cell_type": "code",
   "execution_count": 46,
   "metadata": {},
   "outputs": [
    {
     "data": {
      "text/html": [
       "<div>\n",
       "<style scoped>\n",
       "    .dataframe tbody tr th:only-of-type {\n",
       "        vertical-align: middle;\n",
       "    }\n",
       "\n",
       "    .dataframe tbody tr th {\n",
       "        vertical-align: top;\n",
       "    }\n",
       "\n",
       "    .dataframe thead th {\n",
       "        text-align: right;\n",
       "    }\n",
       "</style>\n",
       "<table border=\"1\" class=\"dataframe\">\n",
       "  <thead>\n",
       "    <tr style=\"text-align: right;\">\n",
       "      <th></th>\n",
       "      <th>RaceDesc</th>\n",
       "      <th>RaceDesc_numerica_iterative</th>\n",
       "    </tr>\n",
       "  </thead>\n",
       "  <tbody>\n",
       "    <tr>\n",
       "      <th>288</th>\n",
       "      <td>Two or more races</td>\n",
       "      <td>4.0</td>\n",
       "    </tr>\n",
       "    <tr>\n",
       "      <th>250</th>\n",
       "      <td>Black or African American</td>\n",
       "      <td>2.0</td>\n",
       "    </tr>\n",
       "    <tr>\n",
       "      <th>221</th>\n",
       "      <td>Asian</td>\n",
       "      <td>1.0</td>\n",
       "    </tr>\n",
       "    <tr>\n",
       "      <th>91</th>\n",
       "      <td>White</td>\n",
       "      <td>5.0</td>\n",
       "    </tr>\n",
       "    <tr>\n",
       "      <th>32</th>\n",
       "      <td>Black or African American</td>\n",
       "      <td>2.0</td>\n",
       "    </tr>\n",
       "    <tr>\n",
       "      <th>220</th>\n",
       "      <td>Black or African American</td>\n",
       "      <td>2.0</td>\n",
       "    </tr>\n",
       "  </tbody>\n",
       "</table>\n",
       "</div>"
      ],
      "text/plain": [
       "                      RaceDesc  RaceDesc_numerica_iterative\n",
       "288          Two or more races                          4.0\n",
       "250  Black or African American                          2.0\n",
       "221                      Asian                          1.0\n",
       "91                       White                          5.0\n",
       "32   Black or African American                          2.0\n",
       "220  Black or African American                          2.0"
      ]
     },
     "execution_count": 46,
     "metadata": {},
     "output_type": "execute_result"
    }
   ],
   "source": [
    "df_copy[['RaceDesc', 'RaceDesc_numerica_iterative']].sample(6)"
   ]
  },
  {
   "cell_type": "code",
   "execution_count": 32,
   "metadata": {},
   "outputs": [
    {
     "data": {
      "text/plain": [
       "RaceDesc                          RaceDesc_numerica_iterative\n",
       "White                             5.0                            135\n",
       "Black or African American         2.0                             60\n",
       "Asian                             1.0                             20\n",
       "Two or more races                 4.0                              9\n",
       "American Indian or Alaska Native  0.0                              2\n",
       "Hispanic                          3.0                              1\n",
       "dtype: int64"
      ]
     },
     "execution_count": 32,
     "metadata": {},
     "output_type": "execute_result"
    }
   ],
   "source": [
    "df_copy[['RaceDesc', 'RaceDesc_numerica_iterative']].value_counts()"
   ]
  },
  {
   "cell_type": "code",
   "execution_count": 33,
   "metadata": {},
   "outputs": [
    {
     "data": {
      "text/plain": [
       "5.000000    135\n",
       "3.839055     68\n",
       "2.000000     60\n",
       "1.000000     20\n",
       "4.000000      9\n",
       "3.770342      8\n",
       "3.914071      4\n",
       "3.847687      3\n",
       "0.000000      2\n",
       "3.000000      1\n",
       "2.324216      1\n",
       "Name: RaceDesc_numerica_iterative, dtype: int64"
      ]
     },
     "execution_count": 33,
     "metadata": {},
     "output_type": "execute_result"
    }
   ],
   "source": [
    "df_copy['RaceDesc_numerica_iterative'].value_counts()"
   ]
  }
 ],
 "metadata": {
  "kernelspec": {
   "display_name": "base",
   "language": "python",
   "name": "python3"
  },
  "language_info": {
   "codemirror_mode": {
    "name": "ipython",
    "version": 3
   },
   "file_extension": ".py",
   "mimetype": "text/x-python",
   "name": "python",
   "nbconvert_exporter": "python",
   "pygments_lexer": "ipython3",
   "version": "3.9.7"
  }
 },
 "nbformat": 4,
 "nbformat_minor": 2
}
